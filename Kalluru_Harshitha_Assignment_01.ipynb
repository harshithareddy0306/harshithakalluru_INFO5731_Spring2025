{
  "cells": [
    {
      "cell_type": "markdown",
      "metadata": {
        "id": "view-in-github"
      },
      "source": [
        "<a href=\"https://colab.research.google.com/github/unt-iialab/INFO5731_Spring2020/blob/master/Assignments/INFO5731_Assignment_One.ipynb\" target=\"_parent\"><img src=\"https://colab.research.google.com/assets/colab-badge.svg\" alt=\"Open In Colab\"/></a>"
      ]
    },
    {
      "cell_type": "markdown",
      "metadata": {
        "id": "Ryk8D1Q4Wsrp"
      },
      "source": [
        "# **INFO5731 Assignment - 1**"
      ]
    },
    {
      "cell_type": "markdown",
      "source": [
        "This assignment includes range of programming tasks and data analysis exercises, aiming to enhance your Python skills and proficiency in string manipulation, numerical computations, and data science. Follow the instructions carefully and design well-structured Python programs to address each question.\n",
        "\n",
        "\n",
        "1.  Question 1-5 using AI assistance is strictly prohibted\n",
        "2.  Question 6-7 AI assitance is recommended by following guidelines.\n",
        "\n",
        "Guidelines and expectations file can be found in week 2 module.\n",
        "\n",
        "Late Submission will have a penalty of 10% reduction for each day after the deadline."
      ],
      "metadata": {
        "id": "qcP6re2g5A5r"
      }
    },
    {
      "cell_type": "markdown",
      "metadata": {
        "id": "JkzR8cFAyGik"
      },
      "source": [
        "# Question 1 (10 points).\n",
        "\n",
        "The formula that describes the volume V of a hemisphere with radius r is the following:\n",
        "\n",
        "$ V=\\frac{2}{3}\\ast\\ \\pi\\ast\\ r^3 $\n",
        "\n",
        "Write a program to calculate the value of V when r is in the range of even numbers from 1-20. Output the result in the following format:\n",
        "\n",
        "\tr\tV\n",
        "\t2\t…\n",
        "\t4\t…\n",
        "\t6\t…\n",
        "\t.\n",
        "\t.\n",
        "\t.\n",
        "\t20\t…\n"
      ]
    },
    {
      "cell_type": "code",
      "execution_count": 104,
      "metadata": {
        "id": "jDyTKYs-yGit",
        "colab": {
          "base_uri": "https://localhost:8080/"
        },
        "outputId": "2a08cfef-f1b1-4ec2-a420-fcc88107f808"
      },
      "outputs": [
        {
          "output_type": "stream",
          "name": "stdout",
          "text": [
            "r   v\n",
            "2   16.76\n",
            "4   134.04\n",
            "6   452.39\n",
            "8   1072.33\n",
            "10   2094.40\n",
            "12   3619.11\n",
            "14   5747.02\n",
            "16   8578.64\n",
            "18   12214.51\n",
            "20   16755.16\n"
          ]
        }
      ],
      "source": [
        "# Your code here\n",
        "import math\n",
        "\n",
        "def cal_hemisphere_volume(radiuss):\n",
        "    V_KS = (2/3) * math.pi * radiuss**3\n",
        "    return V_KS\n",
        "\n",
        "# Output header\n",
        "print(\"r   v\")\n",
        "\n",
        "# Calculate and display volume for even values of r in the range 1-20\n",
        "for radiuss in range(2, 21, 2):\n",
        "    V_KS = cal_hemisphere_volume(radiuss)\n",
        "    print(f\"{radiuss}   {V_KS:.2f}\")\n"
      ]
    },
    {
      "cell_type": "markdown",
      "metadata": {
        "id": "90_NR8c5XGWc"
      },
      "source": [
        "# Question 2 (10 points)\n",
        "\n",
        "(a) Write a Python program to generate a sequence of 12 random numbers falling within the range of 50 to 150.\n",
        "\n",
        "(b) Arrange the generated numbers in ascending order. Display the sorted list.\n",
        "\n",
        "(c) Extend the program to arrange the numbers in descending order as well. Present the sorted list accordingly.\n",
        "\n",
        "(d) Compute and output the average of the entire group of generated numbers.\n",
        "\n",
        "(e) Enhance the program to calculate and display the average of the first 6 numbers from both the ascending and descending sorted lists."
      ]
    },
    {
      "cell_type": "code",
      "source": [
        "import random\n",
        "\n",
        "# (a) Generate a sequence of 12 random numbers within the range of 50 to 150\n",
        "# Using list comprehension for generating the random sequence\n",
        "ran_nums = [random.randint(50, 150) for _ in range(12)]\n",
        "\n",
        "# Display the original sequence\n",
        "print(\"Original Random Sequence:\", ran_nums)\n",
        "\n",
        "# (b) Arrange the numbers in ascending order and display the sorted list\n",
        "# Using sorted() to create a new sorted list in ascending order\n",
        "ascending_sort = sorted(ran_nums)\n",
        "print(\"Ascending Sort Order:\", ascending_sort)\n",
        "\n",
        "# (c) Arrange the numbers in descending order and display the sorted list\n",
        "# Using sorted() with reverse=True for descending order\n",
        "descending_sort = sorted(ran_nums, reverse=True)\n",
        "print(\"Descending Sort Order:\", descending_sort)\n",
        "\n",
        "# (d) Compute and output the average of the entire group of generated numbers\n",
        "# Calculating the average by summing the list and dividing by its length\n",
        "avg_tot = sum(ran_nums) / len(ran_nums)\n",
        "print(\"Average of All Numbers:\", avg_tot)\n",
        "\n",
        "# (e) Compute and display the average of the first 6 numbers from both sorted lists\n",
        "# Slicing the first 6 numbers and calculating their averages\n",
        "average_top_six_asc = sum(ascending_sort[:6]) / 6\n",
        "average_top_six_desc = sum(descending_sort[:6]) / 6\n",
        "\n",
        "print(\"Average of First 6 in Ascending order:\", average_top_six_asc)\n",
        "print(\"Average of First 6 in Descending order:\", average_top_six_desc)\n"
      ],
      "metadata": {
        "colab": {
          "base_uri": "https://localhost:8080/"
        },
        "id": "-mU31uZeFYTe",
        "outputId": "2b562888-4b19-419e-d216-3b78c506d570"
      },
      "execution_count": 105,
      "outputs": [
        {
          "output_type": "stream",
          "name": "stdout",
          "text": [
            "Original Random Sequence: [64, 130, 92, 80, 92, 105, 109, 103, 85, 128, 69, 79]\n",
            "Ascending Sort Order: [64, 69, 79, 80, 85, 92, 92, 103, 105, 109, 128, 130]\n",
            "Descending Sort Order: [130, 128, 109, 105, 103, 92, 92, 85, 80, 79, 69, 64]\n",
            "Average of All Numbers: 94.66666666666667\n",
            "Average of First 6 in Ascending order: 78.16666666666667\n",
            "Average of First 6 in Descending order: 111.16666666666667\n"
          ]
        }
      ]
    },
    {
      "cell_type": "markdown",
      "metadata": {
        "id": "1F_PZdH9Sh49"
      },
      "source": [
        "# Question 3 (10 points).\n",
        "\n",
        "Create a Python program that encompasses various string manipulation task:\n",
        "\n",
        "(a) Prompt the user to input two sentences.\n",
        "\n",
        "(b) Transform each sentence into a list, where each element corresponds to a word in the sentence. For example, if the sentences are \"Hello, how are you doing today?\" and \"This is an example sentence for the program!\"\n",
        "\n",
        "The program should output:\n",
        "['Hello', ',', 'how', 'are', 'you', 'doing', 'today', '?', 'This', 'is', 'an', 'example', 'sentence', 'for', 'the', 'program', '!']\n",
        "\n",
        "(c) Compare the two sentences. Print out a list of words that occur in both sentences.\n",
        "\n",
        "(d) Remove any punctuation from the sentence and print the sanitized sentences. It should remove at least the following characters, but it can remove more: period(“.”), comma (“,”), semicolon (“;”), and colon (“:”).\n",
        "\n",
        "(e) Count the number of vowels in each of the sentences. Print out each vowel and the occurrences  in the each of the two sentences separately, such as:\n",
        "\n",
        "Sentence1: a:2, e:2, i:0, etc.\n",
        "Sentence2: a:1, e:2, i:2, etc.\n",
        "\n",
        "Design a well-structured Python program to execute these tasks efficiently."
      ]
    },
    {
      "cell_type": "code",
      "execution_count": 106,
      "metadata": {
        "id": "Y0oOSlsOS0cq",
        "colab": {
          "base_uri": "https://localhost:8080/"
        },
        "outputId": "4d0fac8a-64db-40ad-991c-ca82b03720f6"
      },
      "outputs": [
        {
          "output_type": "stream",
          "name": "stdout",
          "text": [
            "Enter the first sentence: Hello, how are you doing today?\n",
            "Enter the second sentence: This is an example sentence for the program!\n",
            "Transformed List ['Hello', ',', 'how', 'are', 'you', 'doing', 'today', '?', 'This', 'is', 'an', 'example', 'sentence', 'for', 'the', 'program', '!']\n",
            "Common Words: []\n",
            "Sanitized Sentence 1: Hello how are you doing today\n",
            "Sanitized Sentence 2: This is an example sentence for the program\n",
            "Sentence 1: a:2, e:2, i:1, o:5, u:1\n",
            "Sentence 2: a:3, e:6, i:2, o:2, u:0\n"
          ]
        }
      ],
      "source": [
        "# Your code here\n",
        "\n",
        "import string\n",
        "import re\n",
        "\n",
        "\n",
        "def get_sentences():\n",
        "    sent1_KS = input(\"Enter the first sentence: \")\n",
        "    sent2_KS = input(\"Enter the second sentence: \")\n",
        "    return sent1_KS, sent2_KS\n",
        "\n",
        "\n",
        "def transform_to_list(sentence):\n",
        "    \"\"\"Tokenize a sentence into words and punctuation.\"\"\"\n",
        "    return re.findall(r\"\\w+|[.,;:!?]\",sentence)\n",
        "\n",
        "def compare_sentences(list1, list2):\n",
        "    common_words = set(list1) & set(list2)\n",
        "    return list(common_words)\n",
        "\n",
        "def remove_punctuation(sentence):\n",
        "    return sentence.translate(str.maketrans(\"\", \"\", string.punctuation))\n",
        "\n",
        "def count_vowels(sentence):\n",
        "    vowels = \"aeiou\"\n",
        "    count = {vowel: sentence.lower().count(vowel) for vowel in vowels}\n",
        "    return count\n",
        "\n",
        "def print_vowel_counts(sentence, count):\n",
        "    print(f\"{sentence}: {', '.join([f'{vowel}:{count[vowel]}' for vowel in count])}\")\n",
        "\n",
        "# (a) Prompt the user to input two sentences\n",
        "sentence1, sentence2 = get_sentences()\n",
        "\n",
        "# (b) Transform each sentence into a list of words\n",
        "list1 = transform_to_list(sentence1)\n",
        "list2 = transform_to_list(sentence2)\n",
        "print(\"Transformed List\", list1 + list2)\n",
        "\n",
        "# (c) Compare the two sentences\n",
        "common_words = compare_sentences(list1, list2)\n",
        "print(\"Common Words:\", common_words)\n",
        "\n",
        "# (d) Remove punctuation from the sentences\n",
        "sent1_chg_KS = remove_punctuation(sentence1)\n",
        "sent2_chg_KS = remove_punctuation(sentence2)\n",
        "print(\"Sanitized Sentence 1:\", sent1_chg_KS)\n",
        "print(\"Sanitized Sentence 2:\", sent2_chg_KS)\n",
        "\n",
        "# (e) Count the number of vowels in each sentence\n",
        "vowel_count1 = count_vowels(sent1_chg_KS)\n",
        "vowel_count2 = count_vowels(sent2_chg_KS)\n",
        "\n",
        "print_vowel_counts(\"Sentence 1\", vowel_count1)\n",
        "print_vowel_counts(\"Sentence 2\", vowel_count2)\n"
      ]
    },
    {
      "cell_type": "markdown",
      "source": [
        "# Question 4 (10 Points)"
      ],
      "metadata": {
        "id": "OP4-5qxAtInv"
      }
    },
    {
      "cell_type": "markdown",
      "source": [
        "Design and implement a simple command-line calculator program. The program should handle both integers and floating-point numbers.\n",
        "\n",
        "(a) Write program that takes a mathematical expression as input and evaluates it. The program should support addition, subtraction, multiplication, and division.\n",
        "\n",
        "(b) Extend the calculator to handle parentheses in mathematical expressions. Implement the necessary logic to evaluate expressions with nested parentheses.\n",
        "\n",
        "(c) Enhance your calculator to include additional mathematical operations such as exponentiation, square root, and modulus.\n",
        "\n",
        "(d) Implement error handling in the calculator program. Handle cases such as division by zero and invalid input expressions. Provide meaningful error messages.\n",
        "\n",
        "(e) Implement a command to exit the calculator."
      ],
      "metadata": {
        "id": "uzN4_hDptK9U"
      }
    },
    {
      "cell_type": "code",
      "source": [
        "# Your code here\n",
        "import math\n",
        "\n",
        "def evaluate_expression(exp):\n",
        "    try:\n",
        "        result = eval(exp)\n",
        "        return result\n",
        "    except ZeroDivisionError:\n",
        "        return \"Error: Division by zero\"\n",
        "    except SyntaxError:\n",
        "        return \"Error: Invalid input expression\"\n",
        "    except Exception as e:\n",
        "        return f\"Error: {str(e)}\"\n",
        "\n",
        "def main():\n",
        "    print(\"Simple Command-Line Calculator\\nType 'exit' to quit\")\n",
        "\n",
        "    while True:\n",
        "        user_input = input(\"Enter a mathematical expression: \")\n",
        "\n",
        "        # Implement a command to exit the calculator\n",
        "        if user_input.lower() == 'exit':\n",
        "            print(\"Exiting the calculator. Goodbye!\")\n",
        "            break\n",
        "\n",
        "        # Handle parentheses in mathematical expressions\n",
        "        while '(' in user_input:\n",
        "            opening_parenthesis = user_input.rfind('(')\n",
        "            closing_parenthesis = user_input.find(')', opening_parenthesis)\n",
        "            if opening_parenthesis != -1 and closing_parenthesis != -1:\n",
        "                sub_expression = user_input[opening_parenthesis + 1:closing_parenthesis]\n",
        "                result = evaluate_expression(sub_expression)\n",
        "                user_input = user_input[:opening_parenthesis] + str(result) + user_input[closing_parenthesis + 1:]\n",
        "\n",
        "        # Additional mathematical operations\n",
        "        user_input = user_input.replace(\"^\", \"**\")  # Exponentiation\n",
        "        user_input = user_input.replace(\"sqrt\", \"math.sqrt\")  # Square root\n",
        "        user_input = user_input.replace(\"%\", \"/100\")  # Modulus\n",
        "\n",
        "        # Evaluate the mathematical expression\n",
        "        res = evaluate_expression(user_input)\n",
        "        print(\"Result:\", res)\n",
        "\n",
        "if __name__ == \"__main__\":\n",
        "    main()# Your code here"
      ],
      "metadata": {
        "id": "8nQnVxjJuYtu",
        "colab": {
          "base_uri": "https://localhost:8080/"
        },
        "outputId": "03eb0fa8-701a-4543-b13e-50e6624ac8eb"
      },
      "execution_count": 107,
      "outputs": [
        {
          "output_type": "stream",
          "name": "stdout",
          "text": [
            "Simple Command-Line Calculator\n",
            "Type 'exit' to quit\n",
            "Enter a mathematical expression: 2+2\n",
            "Result: 4\n",
            "Enter a mathematical expression: 3*7\n",
            "Result: 21\n",
            "Enter a mathematical expression: 2%6\n",
            "Result: 0.0019880715705765406\n",
            "Enter a mathematical expression: 144\n",
            "Result: 144\n",
            "Enter a mathematical expression: exit\n",
            "Exiting the calculator. Goodbye!\n"
          ]
        }
      ]
    },
    {
      "cell_type": "markdown",
      "metadata": {
        "id": "z3tBE7E-Xn5X"
      },
      "source": [
        "# Question 5 (20 points).\n",
        "\n",
        "In the field of Data Science, data is often formatted as a comma-delimited (CSV) file, where each line in a file corresponds to a field's value. Refer to Chapter 9 (p. 106) for more information on comma-delimited files.\n",
        "\n",
        "To answer this question, you will need to download the file [Assignment1_denton_housing.csv](https://raw.githubusercontent.com/unt-iialab/info5731-spring2022/main/assignments/Assignment1_denton_housing.csv) included with this assignment. The file contains statistics about housing in the city of Denton from 2008 to 2014. Write a program to implement the following questions.\n",
        "\n",
        "(a) (5 pts) Calculate the difference in the number of Occupied Housing Units from year to year and print it. The difference must be calculated for the consecutive years such as 2008-2009, 2009-2010 etc. Finally, print the values in the ascending order.\n",
        "\n",
        "(b) (5 pts) For all the years, calculate the percentage of housing units which are vacant an occupied. Print the results in the following format:\n",
        "\n",
        "Year Vacant Housing Units Occupied Housing Units\n",
        "\n",
        "    2008  30%   70%                          \n",
        "\t2009 ----- -----\n",
        "\t2010 ----- -----\n",
        "    2011 ----- -----\n",
        "\t2012 ----- -----\n",
        "    2013 ----- -----\n",
        "\t2014 ----- -----\n",
        "  \n",
        "  \n",
        "\n",
        "(c) (5 pts) Calculate and print the valued and years in which the highest number of housing units were vacant and occupied. Print the results in the following format:  \n",
        "\n",
        "                              Year\tValue\n",
        "\tVacant Housing Units\t  -----   -----\n",
        "\tOccupied Housing Units\t-----   -----\n",
        "\n",
        "(d) (5 pts) Calculate the harmonic mean of the total housing units and print it out. You can find the information about harmonic mean here: https://ncalculators.com/statistics/harmonic-mean-calculator.htm"
      ]
    },
    {
      "cell_type": "code",
      "execution_count": 108,
      "metadata": {
        "id": "lqGYuHBhcsRH",
        "colab": {
          "base_uri": "https://localhost:8080/"
        },
        "outputId": "d2b4e58e-7240-486e-86ca-b1d10d6b96ca"
      },
      "outputs": [
        {
          "output_type": "stream",
          "name": "stdout",
          "text": [
            "\n",
            "(a) Differences in Occupied Housing Units from Year to Year:\n",
            "2008-2009: -795\n",
            "2010-2011: -303\n",
            "2011-2012: 1404\n",
            "2012-2013: 1565\n",
            "2013-2014: 2622\n",
            "2009-2010: 5091\n",
            "\n",
            "(b) Percentage of Housing Units: Vacant and Occupied\n",
            "Year\tVacant Housing Units\tOccupied Housing Units\n",
            "2008\t10.88%\t\t\t89.12%\n",
            "2009\t9.07%\t\t\t90.93%\n",
            "2010\t8.14%\t\t\t91.86%\n",
            "2011\t9.38%\t\t\t90.62%\n",
            "2012\t6.68%\t\t\t93.32%\n",
            "2013\t8.80%\t\t\t91.20%\n",
            "2014\t5.73%\t\t\t94.27%\n",
            "\n",
            "(c) Highest Number of Housing Units:\n",
            "Year\t\tValue\n",
            "Vacant Housing Units\t2008\t4483\n",
            "Occupied Housing Units\t2014\t46295\n",
            "\n",
            "(d) Harmonic Mean:\n",
            "Harmonic Mean: 44398.2854\n"
          ]
        }
      ],
      "source": [
        " # Your code\n",
        "import csv\n",
        "from collections import OrderedDict\n",
        "from scipy.stats import hmean\n",
        "\n",
        "def read_csv(file_path):\n",
        "    with open(file_path, 'r') as file:\n",
        "        reader1 = csv.DictReader(file)\n",
        "        return list(reader1)\n",
        "\n",
        "def cal_diff(data_dict):\n",
        "    differences = {}\n",
        "    for year in range(2009, 2015):\n",
        "        if 'Occupied Housing Units' in data_dict[year] and 'Occupied Housing Units' in data_dict[year - 1]:\n",
        "            difference = data_dict[year]['Occupied Housing Units'] - data_dict[year - 1]['Occupied Housing Units']\n",
        "            differences[f\"{year-1}-{year}\"] = difference\n",
        "    return differences\n",
        "\n",
        "def cal_per(data_dict):\n",
        "    print(\"\\n(b) Percentage of Housing Units: Vacant and Occupied\")\n",
        "    print(\"Year\\tVacant Housing Units\\tOccupied Housing Units\")\n",
        "    for year in range(2008, 2015):\n",
        "        tot_units = data_dict[year]['Total Housing Units']\n",
        "        vacant_units = data_dict[year]['Vacant Housing Units']\n",
        "        occupied_units = data_dict[year]['Occupied Housing Units']\n",
        "\n",
        "        vacant_per = (vacant_units / tot_units) * 100\n",
        "        occupied_per = (occupied_units / tot_units) * 100\n",
        "\n",
        "        print(f\"{year}\\t{vacant_per:.2f}%\\t\\t\\t{occupied_per:.2f}%\")\n",
        "\n",
        "def find_highest_values(data_dict):\n",
        "    print(\"\\n(c) Highest Number of Housing Units:\")\n",
        "    print(\"Year\\t\\tValue\")\n",
        "    highest_vacant_year = max(data_dict.keys(), key=lambda year: data_dict[year]['Vacant Housing Units'])\n",
        "    highest_occupied_year = max(data_dict.keys(), key=lambda year: data_dict[year]['Occupied Housing Units'])\n",
        "    print(f\"Vacant Housing Units\\t{highest_vacant_year}\\t{data_dict[highest_vacant_year]['Vacant Housing Units']}\")\n",
        "    print(f\"Occupied Housing Units\\t{highest_occupied_year}\\t{data_dict[highest_occupied_year]['Occupied Housing Units']}\")\n",
        "\n",
        "def calculate_harmonic_mean(dataset):\n",
        "    harmonic_mean = len(dataset) / sum(1/x for x in dataset)\n",
        "    return round(harmonic_mean, 4)\n",
        "\n",
        "# File path to 'Assignment1_denton_housing.csv'\n",
        "file_path = '/content/Assignment1_denton_housing.csv'\n",
        "\n",
        "# Read the CSV file\n",
        "data = read_csv(file_path)\n",
        "\n",
        "# Parse the data into a dictionary\n",
        "data_dict = OrderedDict()\n",
        "for row in data:\n",
        "    year = int(row['year'])\n",
        "    title_field = row['title_field']\n",
        "    value = int(row['value']) if row['value'].isdigit() else row['value']\n",
        "\n",
        "    if year not in data_dict:\n",
        "        data_dict[year] = {}\n",
        "\n",
        "    data_dict[year][title_field] = value\n",
        "\n",
        "# (a)\n",
        "differences = cal_diff(data_dict)\n",
        "print(\"\\n(a) Differences in Occupied Housing Units from Year to Year:\")\n",
        "sorted_differences = sorted(differences.items(), key=lambda x: x[1])\n",
        "for item in sorted_differences:\n",
        "    print(f\"{item[0]}: {item[1]}\")\n",
        "\n",
        "# (b)\n",
        "cal_per(data_dict)\n",
        "\n",
        "# (c)\n",
        "find_highest_values(data_dict)\n",
        "\n",
        "# (d)\n",
        "print(\"\\n(d) Harmonic Mean:\")\n",
        "dataset_for_harmonic_mean = [data_dict[year]['Total Housing Units'] for year in range(2008, 2015)]\n",
        "harmonic_mean_result = calculate_harmonic_mean(dataset_for_harmonic_mean)\n",
        "print(\"Harmonic Mean:\", harmonic_mean_result)\n",
        "\n",
        "\n"
      ]
    },
    {
      "cell_type": "markdown",
      "source": [
        "# **For question 6 and 7 you can take AI assitance to solve.**\n",
        "\n",
        "Make sure you follow the instructions given in class to answer these questions.\n",
        "\n",
        "\n",
        "**Important points:**\n",
        "\n",
        "1.   You must come up with at least 10 edge cases.\n",
        "2.   You should provide prompts and revised prompts given to ChatGPT.\n",
        "2.   Debug your code and write comments for each block of code\n",
        "3.   Analyzing error will not consider as edge case.\n",
        "\n",
        "Edge cases are like real life scienarios which are realated to the given question."
      ],
      "metadata": {
        "id": "DB9XtkavJmsO"
      }
    },
    {
      "cell_type": "markdown",
      "source": [
        "# Question 6 (20 points).\n",
        "Develop a advance Python program to manage inventory records for a prodcut managing company. The system needs functions for adding, deleting and changing products and basic search options. Your system should use CSV files to automate restocking and produce reports that show item values alongside category breakdowns. Manage edge cases and corrupted CSV files. Finally maintaine 50 products of different categories in inventory."
      ],
      "metadata": {
        "id": "BAfp-70D2Cay"
      }
    },
    {
      "cell_type": "markdown",
      "source": [],
      "metadata": {
        "id": "dbF9JKoPPj9V"
      }
    },
    {
      "cell_type": "code",
      "source": [
        "import csv\n",
        "import os\n",
        "\n",
        "CSV_FILE = \"/mnt/data/inventory.csv\"\n",
        "\n",
        "class InventoryManager:\n",
        "    def __init__(self, file_path):\n",
        "        self.file_path = file_path\n",
        "        self.load_inventory()\n",
        "\n",
        "    def load_inventory(self):\n",
        "        \"\"\"Loads inventory from CSV file, handling errors gracefully.\"\"\"\n",
        "        self.inventory = []\n",
        "        if not os.path.exists(self.file_path):\n",
        "            return\n",
        "        try:\n",
        "            with open(self.file_path, mode='r') as file:\n",
        "                reader = csv.DictReader(file)\n",
        "                for row in reader:\n",
        "                    row['Quantity'] = int(row['Quantity'])\n",
        "                    row['Price'] = float(row['Price'])\n",
        "                    self.inventory.append(row)\n",
        "        except Exception as e:\n",
        "            print(f\"Error loading inventory: {e}\")\n",
        "\n",
        "    def save_inventory(self):\n",
        "        \"\"\"Saves inventory to CSV file.\"\"\"\n",
        "        with open(self.file_path, mode='w', newline='') as file:\n",
        "            writer = csv.DictWriter(file, fieldnames=['ID', 'Name', 'Category', 'Quantity', 'Price'])\n",
        "            writer.writeheader()\n",
        "            writer.writerows(self.inventory)\n",
        "\n",
        "    def add_product(self, product):\n",
        "        \"\"\"Adds a new product to the inventory.\"\"\"\n",
        "        self.inventory.append(product)\n",
        "        self.save_inventory()\n",
        "\n",
        "    def delete_product(self, product_id):\n",
        "        \"\"\"Deletes a product from inventory by ID.\"\"\"\n",
        "        self.inventory = [p for p in self.inventory if p['ID'] != product_id]\n",
        "        self.save_inventory()\n",
        "\n",
        "    def update_product(self, product_id, field, value):\n",
        "        \"\"\"Updates a specific field of a product.\"\"\"\n",
        "        for product in self.inventory:\n",
        "            if product['ID'] == product_id:\n",
        "                product[field] = value\n",
        "                break\n",
        "        self.save_inventory()\n",
        "\n",
        "    def search_product(self, query):\n",
        "        \"\"\"Searches for a product by name or category.\"\"\"\n",
        "        return [p for p in self.inventory if query.lower() in p['Name'].lower() or query.lower() in p['Category'].lower()]\n",
        "\n",
        "    def generate_report(self):\n",
        "        \"\"\"Generates a report of inventory value by category.\"\"\"\n",
        "        report = {}\n",
        "        for product in self.inventory:\n",
        "            category = product['Category']\n",
        "            value = product['Quantity'] * product['Price']\n",
        "            report[category] = report.get(category, 0) + value\n",
        "        return report\n",
        "\n",
        "# Initialize and demonstrate usage\n",
        "manager = InventoryManager(CSV_FILE)\n",
        "print(\"Inventory loaded successfully.\")\n",
        "print(\"Report:\", manager.generate_report())\n"
      ],
      "metadata": {
        "colab": {
          "base_uri": "https://localhost:8080/"
        },
        "id": "mfpyah3lPknk",
        "outputId": "23db5edc-dddb-4470-cc68-1706706da437"
      },
      "execution_count": 109,
      "outputs": [
        {
          "output_type": "stream",
          "name": "stdout",
          "text": [
            "Inventory loaded successfully.\n",
            "Report: {}\n"
          ]
        }
      ]
    },
    {
      "cell_type": "markdown",
      "source": [
        "EDGE CASES"
      ],
      "metadata": {
        "id": "DQMCg8YWPvA_"
      }
    },
    {
      "cell_type": "markdown",
      "source": [
        "prompt 1: The CSV file exists but is empty."
      ],
      "metadata": {
        "id": "PVv1Qa1mQDSr"
      }
    },
    {
      "cell_type": "code",
      "source": [
        "def load_inventory(self):\n",
        "    self.inventory = []\n",
        "    if not os.path.exists(self.file_path) or os.stat(self.file_path).st_size == 0:\n",
        "        print(\"CSV file is empty or does not exist. Initializing empty inventory.\")\n",
        "        return\n"
      ],
      "metadata": {
        "id": "StoVzjIDXbpQ"
      },
      "execution_count": 110,
      "outputs": []
    },
    {
      "cell_type": "markdown",
      "source": [
        "prompt 2: What if a CSV row has non-numeric values for \"Quantity\" or \"Price\"?"
      ],
      "metadata": {
        "id": "hRYcTqyMQTdY"
      }
    },
    {
      "cell_type": "code",
      "source": [
        "def parse_row(row):\n",
        "    try:\n",
        "        row['Quantity'] = int(row['Quantity'])\n",
        "        row['Price'] = float(row['Price'])\n",
        "    except ValueError:\n",
        "        raise ValueError(\"Invalid data type in row\")\n",
        "    return row\n",
        "\n",
        "# Testing a row with invalid data:\n",
        "try:\n",
        "    faulty_row = {\"ID\": \"101\", \"Name\": \"Widget\", \"Category\": \"Gadgets\", \"Quantity\": \"five\", \"Price\": \"ten\"}\n",
        "    parse_row(faulty_row)\n",
        "except ValueError as e:\n",
        "    print(\"Error:\", e)"
      ],
      "metadata": {
        "colab": {
          "base_uri": "https://localhost:8080/"
        },
        "id": "umq5EQL7QYUU",
        "outputId": "ef84c751-45af-4512-9633-4f1371ff63ef"
      },
      "execution_count": 111,
      "outputs": [
        {
          "output_type": "stream",
          "name": "stdout",
          "text": [
            "Error: Invalid data type in row\n"
          ]
        }
      ]
    },
    {
      "cell_type": "markdown",
      "source": [
        "prompt 3: What happens if a new product is added with an ID that already exists?"
      ],
      "metadata": {
        "id": "x2Hj90W_Qghw"
      }
    },
    {
      "cell_type": "code",
      "source": [
        "def add_product(inventory, new_product):\n",
        "    if any(prod['ID'] == new_product['ID'] for prod in inventory):\n",
        "        print(f\"Product with ID {new_product['ID']} already exists. Cannot add duplicate.\")\n",
        "    else:\n",
        "        inventory.append(new_product)\n",
        "    return inventory\n",
        "\n",
        "# Example usage:\n",
        "inventory = [{\"ID\": \"101\", \"Name\": \"Widget\", \"Category\": \"Gadgets\", \"Quantity\": 10, \"Price\": 2.99}]\n",
        "new_product = {\"ID\": \"101\", \"Name\": \"New Widget\", \"Category\": \"Gadgets\", \"Quantity\": 5, \"Price\": 3.99}\n",
        "inventory = add_product(inventory, new_product)"
      ],
      "metadata": {
        "colab": {
          "base_uri": "https://localhost:8080/"
        },
        "id": "MyujAOBuQh2d",
        "outputId": "ae5d1eec-e116-474b-bc78-6138bf742b63"
      },
      "execution_count": 112,
      "outputs": [
        {
          "output_type": "stream",
          "name": "stdout",
          "text": [
            "Product with ID 101 already exists. Cannot add duplicate.\n"
          ]
        }
      ]
    },
    {
      "cell_type": "markdown",
      "source": [
        "prompt 4: How is the system affected if a product is missing required fields when being added?"
      ],
      "metadata": {
        "id": "cfNX6Vg5QodO"
      }
    },
    {
      "cell_type": "code",
      "source": [
        "def validate_product(product):\n",
        "    required_fields = ['ID', 'Name', 'Category', 'Quantity', 'Price']\n",
        "    missing = [field for field in required_fields if field not in product or product[field] == \"\"]\n",
        "    if missing:\n",
        "        raise ValueError(f\"Missing required fields: {missing}\")\n",
        "\n",
        "# Testing incomplete product data:\n",
        "incomplete_product = {\"ID\": \"102\", \"Name\": \"\", \"Category\": \"Gadgets\", \"Quantity\": 5, \"Price\": 3.99}\n",
        "try:\n",
        "    validate_product(incomplete_product)\n",
        "except ValueError as e:\n",
        "    print(\"Validation Error:\", e)"
      ],
      "metadata": {
        "colab": {
          "base_uri": "https://localhost:8080/"
        },
        "id": "0vAwZ7lSRIFA",
        "outputId": "c63db858-b955-453e-e66f-e8a43214d3d9"
      },
      "execution_count": 113,
      "outputs": [
        {
          "output_type": "stream",
          "name": "stdout",
          "text": [
            "Validation Error: Missing required fields: ['Name']\n"
          ]
        }
      ]
    },
    {
      "cell_type": "markdown",
      "source": [
        "prompt 5: What is the system's response when updating a product that does not exist?"
      ],
      "metadata": {
        "id": "Gbr0TZJmROKJ"
      }
    },
    {
      "cell_type": "code",
      "source": [
        "def update_product(inventory, product_id, field, value):\n",
        "    for product in inventory:\n",
        "        if product['ID'] == product_id:\n",
        "            product[field] = value\n",
        "            return True\n",
        "    print(f\"Product with ID {product_id} not found for update.\")\n",
        "    return False\n",
        "\n",
        "# Example usage:\n",
        "inventory = [{\"ID\": \"101\", \"Name\": \"Widget\", \"Category\": \"Gadgets\", \"Quantity\": 10, \"Price\": 2.99}]\n",
        "update_product(inventory, \"999\", \"Price\", 3.49)"
      ],
      "metadata": {
        "colab": {
          "base_uri": "https://localhost:8080/"
        },
        "id": "zLedtOcfRPiN",
        "outputId": "18eca3cd-b632-4122-ccf6-9badbb9f4933"
      },
      "execution_count": 114,
      "outputs": [
        {
          "output_type": "stream",
          "name": "stdout",
          "text": [
            "Product with ID 999 not found for update.\n"
          ]
        },
        {
          "output_type": "execute_result",
          "data": {
            "text/plain": [
              "False"
            ]
          },
          "metadata": {},
          "execution_count": 114
        }
      ]
    },
    {
      "cell_type": "markdown",
      "source": [
        "prompt 6: How does the system handle a deletion request for a product ID not found in the inventory?"
      ],
      "metadata": {
        "id": "5k9aEa2wRVp9"
      }
    },
    {
      "cell_type": "code",
      "source": [
        "def delete_product(inventory, product_id):\n",
        "    initial_length = len(inventory)\n",
        "    inventory = [prod for prod in inventory if prod['ID'] != product_id]\n",
        "    if len(inventory) == initial_length:\n",
        "        print(f\"No product with ID {product_id} was found to delete.\")\n",
        "    return inventory\n",
        "\n",
        "# Example usage:\n",
        "inventory = [{\"ID\": \"101\", \"Name\": \"Widget\", \"Category\": \"Gadgets\", \"Quantity\": 10, \"Price\": 2.99}]\n",
        "inventory = delete_product(inventory, \"999\")"
      ],
      "metadata": {
        "colab": {
          "base_uri": "https://localhost:8080/"
        },
        "id": "RWXJ0yECRWxH",
        "outputId": "fcfdec23-0619-4eba-8b51-e395c655ca72"
      },
      "execution_count": 115,
      "outputs": [
        {
          "output_type": "stream",
          "name": "stdout",
          "text": [
            "No product with ID 999 was found to delete.\n"
          ]
        }
      ]
    },
    {
      "cell_type": "markdown",
      "source": [
        "prompt 7: What if an update is attempted on a field not defined in the product schema (e.g., \"Weight\")?"
      ],
      "metadata": {
        "id": "Qi49S2ZWRdT7"
      }
    },
    {
      "cell_type": "code",
      "source": [
        "def update_product_field(inventory, product_id, field, value):\n",
        "    valid_fields = {'ID', 'Name', 'Category', 'Quantity', 'Price'}\n",
        "    if field not in valid_fields:\n",
        "        print(f\"Field '{field}' is not a valid attribute for update.\")\n",
        "        return False\n",
        "    for product in inventory:\n",
        "        if product['ID'] == product_id:\n",
        "            product[field] = value\n",
        "            return True\n",
        "    print(f\"Product with ID {product_id} not found.\")\n",
        "    return False\n",
        "\n",
        "# Example usage:\n",
        "inventory = [{\"ID\": \"101\", \"Name\": \"Widget\", \"Category\": \"Gadgets\", \"Quantity\": 10, \"Price\": 2.99}]\n",
        "update_product_field(inventory, \"101\", \"Weight\", 15)"
      ],
      "metadata": {
        "colab": {
          "base_uri": "https://localhost:8080/"
        },
        "id": "WZg1YrJgRef0",
        "outputId": "8953f32c-e5f5-485d-dc80-6277cfacfaed"
      },
      "execution_count": 116,
      "outputs": [
        {
          "output_type": "stream",
          "name": "stdout",
          "text": [
            "Field 'Weight' is not a valid attribute for update.\n"
          ]
        },
        {
          "output_type": "execute_result",
          "data": {
            "text/plain": [
              "False"
            ]
          },
          "metadata": {},
          "execution_count": 116
        }
      ]
    },
    {
      "cell_type": "markdown",
      "source": [
        "prompt 8: How does the system respond if a product is added or updated with negative or zero values for \"Quantity\" or \"Price\"?"
      ],
      "metadata": {
        "id": "96Pepb8xRm_u"
      }
    },
    {
      "cell_type": "code",
      "source": [
        "def validate_numeric_values(product):\n",
        "    if int(product['Quantity']) <= 0:\n",
        "        raise ValueError(\"Quantity must be greater than zero.\")\n",
        "    if float(product['Price']) <= 0:\n",
        "        raise ValueError(\"Price must be greater than zero.\")\n",
        "\n",
        "# Testing a product with negative values:\n",
        "faulty_product = {\"ID\": \"103\", \"Name\": \"Gizmo\", \"Category\": \"Gadgets\", \"Quantity\": -5, \"Price\": 0}\n",
        "try:\n",
        "    validate_numeric_values(faulty_product)\n",
        "except ValueError as e:\n",
        "    print(\"Numeric Validation Error:\", e)"
      ],
      "metadata": {
        "colab": {
          "base_uri": "https://localhost:8080/"
        },
        "id": "z-eF7ZbsRocz",
        "outputId": "ac7b0092-c28f-43d4-ab24-c7b0faae83c5"
      },
      "execution_count": 117,
      "outputs": [
        {
          "output_type": "stream",
          "name": "stdout",
          "text": [
            "Numeric Validation Error: Quantity must be greater than zero.\n"
          ]
        }
      ]
    },
    {
      "cell_type": "markdown",
      "source": [
        "prompt 9: What happens when the search function is invoked with an empty string or None as the query"
      ],
      "metadata": {
        "id": "lOOhPbj7RuVn"
      }
    },
    {
      "cell_type": "code",
      "source": [
        "def search_product(inventory, query):\n",
        "    if not query:\n",
        "        print(\"Empty search query provided. Returning all products.\")\n",
        "        return inventory  # or return an empty list depending on the desired behavior\n",
        "    return [p for p in inventory if query.lower() in p['Name'].lower() or query.lower() in p['Category'].lower()]\n",
        "\n",
        "# Example usage:\n",
        "inventory = [{\"ID\": \"101\", \"Name\": \"Widget\", \"Category\": \"Gadgets\", \"Quantity\": 10, \"Price\": 2.99}]\n",
        "results = search_product(inventory, \"\")\n",
        "print(\"Search results:\", results)"
      ],
      "metadata": {
        "colab": {
          "base_uri": "https://localhost:8080/"
        },
        "id": "6KWIX0I_Rvsc",
        "outputId": "479303b9-0b0c-46d3-8899-06c5e200ebe8"
      },
      "execution_count": 118,
      "outputs": [
        {
          "output_type": "stream",
          "name": "stdout",
          "text": [
            "Empty search query provided. Returning all products.\n",
            "Search results: [{'ID': '101', 'Name': 'Widget', 'Category': 'Gadgets', 'Quantity': 10, 'Price': 2.99}]\n"
          ]
        }
      ]
    },
    {
      "cell_type": "markdown",
      "source": [
        "prompt 10: How does the system manage product fields that include special characters (commas, quotes, newlines) that might disrupt CSV formatting?"
      ],
      "metadata": {
        "id": "WV_FE0rtR1h-"
      }
    },
    {
      "cell_type": "code",
      "source": [
        "import csv\n",
        "import os\n",
        "\n",
        "def write_product_with_special_chars(file_path, product):\n",
        "    # Check if the file exists; if not, create it with headers.\n",
        "    if not os.path.exists(file_path):\n",
        "        with open(file_path, mode='w', newline='') as file:\n",
        "            writer = csv.DictWriter(file,\n",
        "                                    fieldnames=['ID', 'Name', 'Category', 'Quantity', 'Price'],\n",
        "                                    quoting=csv.QUOTE_ALL)\n",
        "            writer.writeheader()\n",
        "\n",
        "    # Append the product with special characters to the CSV file.\n",
        "    with open(file_path, mode='a', newline='') as file:\n",
        "        writer = csv.DictWriter(file,\n",
        "                                fieldnames=['ID', 'Name', 'Category', 'Quantity', 'Price'],\n",
        "                                quoting=csv.QUOTE_ALL)\n",
        "        writer.writerow(product)\n",
        "\n",
        "# Example usage with special characters:\n",
        "special_product = {\n",
        "    \"ID\": \"104\",\n",
        "    \"Name\": 'Widget, \"The Best\"',\n",
        "    \"Category\": \"Gadgets\\nElectronics\",\n",
        "    \"Quantity\": 15,\n",
        "    \"Price\": 4.99\n",
        "}\n",
        "\n",
        "file_path = \"inventory.csv\"\n",
        "write_product_with_special_chars(file_path, special_product)\n",
        "\n",
        "# Read and print the contents of the CSV file to display the output.\n",
        "with open(file_path, mode='r', newline='') as file:\n",
        "    content = file.read()\n",
        "    print(\"Contents of inventory.csv:\")\n",
        "    print(content)\n"
      ],
      "metadata": {
        "colab": {
          "base_uri": "https://localhost:8080/"
        },
        "id": "Ou1yyny1R2sv",
        "outputId": "59f2682a-45e4-44d3-aa3a-4075efd21a6d"
      },
      "execution_count": 119,
      "outputs": [
        {
          "output_type": "stream",
          "name": "stdout",
          "text": [
            "Contents of inventory.csv:\n",
            "ID,Name,Category,Quantity,Price\r\n",
            "101,Widget,Gadgets,10,2.99\r\n",
            "\"104\",\"Widget, \"\"The Best\"\"\",\"Gadgets\n",
            "Electronics\",\"15\",\"4.99\"\r\n",
            "\"104\",\"Widget, \"\"The Best\"\"\",\"Gadgets\n",
            "Electronics\",\"15\",\"4.99\"\r\n",
            "\n"
          ]
        }
      ]
    },
    {
      "cell_type": "markdown",
      "source": [
        "prompt 11: What if the program does not have permission to read from or write to the CSV file?"
      ],
      "metadata": {
        "id": "0G37hbHiR-NX"
      }
    },
    {
      "cell_type": "code",
      "source": [
        "def safe_save_inventory(file_path, inventory):\n",
        "    try:\n",
        "        with open(file_path, mode='w', newline='') as file:\n",
        "            import csv\n",
        "            writer = csv.DictWriter(file, fieldnames=['ID', 'Name', 'Category', 'Quantity', 'Price'])\n",
        "            writer.writeheader()\n",
        "            writer.writerows(inventory)\n",
        "    except PermissionError:\n",
        "        print(\"Permission denied: Unable to write to the CSV file.\")\n",
        "    except Exception as e:\n",
        "        print(\"An error occurred while saving:\", e)\n",
        "\n",
        "# Usage example:\n",
        "inventory = [{\"ID\": \"101\", \"Name\": \"Widget\", \"Category\": \"Gadgets\", \"Quantity\": 10, \"Price\": 2.99}]\n",
        "safe_save_inventory(\"protected_inventory.csv\", inventory)\n",
        "print(inventory)"
      ],
      "metadata": {
        "colab": {
          "base_uri": "https://localhost:8080/"
        },
        "id": "pNW-eFcdR_hj",
        "outputId": "fc196799-5042-45cc-c1d8-408a8d4af223"
      },
      "execution_count": 120,
      "outputs": [
        {
          "output_type": "stream",
          "name": "stdout",
          "text": [
            "[{'ID': '101', 'Name': 'Widget', 'Category': 'Gadgets', 'Quantity': 10, 'Price': 2.99}]\n"
          ]
        }
      ]
    },
    {
      "cell_type": "markdown",
      "source": [
        "prompt 12: What occurs if the CSV file contains additional columns beyond the defined schema?"
      ],
      "metadata": {
        "id": "isLwruRbSP86"
      }
    },
    {
      "cell_type": "code",
      "source": [
        "import csv\n",
        "\n",
        "def load_inventory_with_extra_columns(file_path):\n",
        "    inventory = []\n",
        "    try:\n",
        "        with open(file_path, mode='r') as file:\n",
        "            reader = csv.DictReader(file)\n",
        "            for row in reader:\n",
        "                # Filter out unexpected columns\n",
        "                filtered_row = {key: row[key] for key in ['ID', 'Name', 'Category', 'Quantity', 'Price'] if key in row}\n",
        "                try:\n",
        "                    filtered_row['Quantity'] = int(filtered_row['Quantity'])\n",
        "                    filtered_row['Price'] = float(filtered_row['Price'])\n",
        "                    inventory.append(filtered_row)\n",
        "                except (ValueError, KeyError) as e:\n",
        "                    print(f\"Skipping row due to error: {e}\")\n",
        "    except Exception as e:\n",
        "        print(\"Error reading CSV:\", e)\n",
        "    return inventory\n",
        "\n",
        "# Example usage:\n",
        "inventory = load_inventory_with_extra_columns(\"inventory_with_extra_columns.csv\")\n",
        "print(inventory)"
      ],
      "metadata": {
        "colab": {
          "base_uri": "https://localhost:8080/"
        },
        "id": "RuL8Vn2VSRJy",
        "outputId": "ef1dab0a-f680-45d6-a042-e23e21fb57f4"
      },
      "execution_count": 121,
      "outputs": [
        {
          "output_type": "stream",
          "name": "stdout",
          "text": [
            "Error reading CSV: [Errno 2] No such file or directory: 'inventory_with_extra_columns.csv'\n",
            "[]\n"
          ]
        }
      ]
    },
    {
      "cell_type": "markdown",
      "source": [
        "# Question 7 (20 points)\n",
        "\n",
        "Create a well desined Python program for a flight booking system. Offer core functions for adding new flights, finding trips, reserving and releasing seating space and creating performance reports. Ensure the system manages edge cases like invalid input, overbooking, and cancellations. Finally, extend the booking system by including advanced features and maintain about 50 flight in the system."
      ],
      "metadata": {
        "id": "290UJiNg2xES"
      }
    },
    {
      "cell_type": "markdown",
      "source": [],
      "metadata": {
        "id": "W5nNsADIOYQN"
      }
    },
    {
      "cell_type": "code",
      "source": [
        "import random\n",
        "from datetime import datetime, timedelta\n",
        "\n",
        "class Flight:\n",
        "    def __init__(self, flight_number, origin, destination, departure_time, seats):\n",
        "        self.flight_number = flight_number\n",
        "        self.origin = origin\n",
        "        self.destination = destination\n",
        "        self.departure_time = departure_time\n",
        "        self.total_seats = seats\n",
        "        self.available_seats = seats\n",
        "        self.bookings = {}\n",
        "\n",
        "    def book_seat(self, passenger_name):\n",
        "        if self.available_seats > 0:\n",
        "            seat_number = self.total_seats - self.available_seats + 1\n",
        "            self.bookings[passenger_name] = seat_number\n",
        "            self.available_seats -= 1\n",
        "            return f\"Booking confirmed for {passenger_name} on flight {self.flight_number}, Seat {seat_number}.\"\n",
        "        else:\n",
        "            return \"No available seats on this flight.\"\n",
        "\n",
        "    def release_seat(self, passenger_name):\n",
        "        if passenger_name in self.bookings:\n",
        "            self.available_seats += 1\n",
        "            del self.bookings[passenger_name]\n",
        "            return f\"Booking for {passenger_name} has been canceled.\"\n",
        "        return \"No booking found for this passenger.\"\n",
        "\n",
        "    def __str__(self):\n",
        "        return f\"Flight {self.flight_number}: {self.origin} -> {self.destination} at {self.departure_time} ({self.available_seats}/{self.total_seats} seats available)\"\n",
        "\n",
        "\n",
        "class FlightBookingSystem:\n",
        "    def __init__(self):\n",
        "        self.flights = []\n",
        "\n",
        "    def add_flight(self, flight_number, origin, destination, departure_time, seats):\n",
        "        flight = Flight(flight_number, origin, destination, departure_time, seats)\n",
        "        self.flights.append(flight)\n",
        "        return f\"Flight {flight_number} added successfully.\"\n",
        "\n",
        "    def find_flights(self, origin, destination):\n",
        "        available_flights = [flight for flight in self.flights if flight.origin == origin and flight.destination == destination]\n",
        "        return available_flights if available_flights else \"No flights available.\"\n",
        "\n",
        "    def book_flight(self, flight_number, passenger_name):\n",
        "        for flight in self.flights:\n",
        "            if flight.flight_number == flight_number:\n",
        "                return flight.book_seat(passenger_name)\n",
        "        return \"Flight not found.\"\n",
        "\n",
        "    def cancel_booking(self, flight_number, passenger_name):\n",
        "        for flight in self.flights:\n",
        "            if flight.flight_number == flight_number:\n",
        "                return flight.release_seat(passenger_name)\n",
        "        return \"Flight not found.\"\n",
        "\n",
        "    def generate_report(self):\n",
        "        report = \"\\nFlight Performance Report:\\n\"\n",
        "        for flight in self.flights:\n",
        "            booked_seats = flight.total_seats - flight.available_seats\n",
        "            report += f\"{flight.flight_number}: {flight.origin} -> {flight.destination} - {booked_seats}/{flight.total_seats} booked.\\n\"\n",
        "        return report\n",
        "\n",
        "\n",
        "def create_sample_flights(system):\n",
        "    origins = [\"New York\", \"Los Angeles\", \"Chicago\", \"Houston\", \"Miami\"]\n",
        "    destinations = [\"London\", \"Paris\", \"Tokyo\", \"Sydney\", \"Dubai\"]\n",
        "    for i in range(50):\n",
        "        origin = random.choice(origins)\n",
        "        destination = random.choice(destinations)\n",
        "        while destination == origin:\n",
        "            destination = random.choice(destinations)\n",
        "        departure_time = datetime.now() + timedelta(days=random.randint(1, 30))\n",
        "        seats = random.randint(50, 200)\n",
        "        system.add_flight(f\"FL{i+1}\", origin, destination, departure_time, seats)\n",
        "\n",
        "# Initialize System\n",
        "system = FlightBookingSystem()\n",
        "create_sample_flights(system)\n",
        "\n",
        "# Example Usages\n",
        "print(system.book_flight(\"FL1\", \"John Doe\"))\n",
        "print(system.find_flights(\"New York\", \"London\"))\n",
        "print(system.generate_report())\n",
        "\n",
        "\n"
      ],
      "metadata": {
        "id": "dME5iWD53ADa",
        "colab": {
          "base_uri": "https://localhost:8080/"
        },
        "outputId": "58a059ab-48bd-4c18-8704-d202304e898e"
      },
      "execution_count": 122,
      "outputs": [
        {
          "output_type": "stream",
          "name": "stdout",
          "text": [
            "Booking confirmed for John Doe on flight FL1, Seat 1.\n",
            "[<__main__.Flight object at 0x7ac90cc0a1d0>, <__main__.Flight object at 0x7ac90cc0a350>]\n",
            "\n",
            "Flight Performance Report:\n",
            "FL1: Chicago -> Dubai - 1/133 booked.\n",
            "FL2: Chicago -> Sydney - 0/179 booked.\n",
            "FL3: Miami -> Dubai - 0/103 booked.\n",
            "FL4: Houston -> Tokyo - 0/175 booked.\n",
            "FL5: New York -> Sydney - 0/170 booked.\n",
            "FL6: New York -> Tokyo - 0/141 booked.\n",
            "FL7: Chicago -> Dubai - 0/148 booked.\n",
            "FL8: Los Angeles -> London - 0/169 booked.\n",
            "FL9: Houston -> Tokyo - 0/143 booked.\n",
            "FL10: Chicago -> Tokyo - 0/183 booked.\n",
            "FL11: New York -> Tokyo - 0/172 booked.\n",
            "FL12: Miami -> Paris - 0/175 booked.\n",
            "FL13: New York -> Sydney - 0/142 booked.\n",
            "FL14: Houston -> Sydney - 0/98 booked.\n",
            "FL15: Houston -> Tokyo - 0/172 booked.\n",
            "FL16: Los Angeles -> Paris - 0/78 booked.\n",
            "FL17: Houston -> Paris - 0/192 booked.\n",
            "FL18: Los Angeles -> Paris - 0/50 booked.\n",
            "FL19: Los Angeles -> Sydney - 0/87 booked.\n",
            "FL20: New York -> Dubai - 0/55 booked.\n",
            "FL21: New York -> Sydney - 0/75 booked.\n",
            "FL22: Los Angeles -> London - 0/171 booked.\n",
            "FL23: Los Angeles -> London - 0/164 booked.\n",
            "FL24: Miami -> Dubai - 0/52 booked.\n",
            "FL25: Los Angeles -> London - 0/71 booked.\n",
            "FL26: Chicago -> Dubai - 0/117 booked.\n",
            "FL27: New York -> Paris - 0/132 booked.\n",
            "FL28: New York -> Tokyo - 0/117 booked.\n",
            "FL29: Miami -> Tokyo - 0/74 booked.\n",
            "FL30: Houston -> London - 0/130 booked.\n",
            "FL31: Houston -> London - 0/133 booked.\n",
            "FL32: Chicago -> Paris - 0/64 booked.\n",
            "FL33: New York -> London - 0/101 booked.\n",
            "FL34: Los Angeles -> Paris - 0/75 booked.\n",
            "FL35: New York -> London - 0/60 booked.\n",
            "FL36: Chicago -> Dubai - 0/143 booked.\n",
            "FL37: Los Angeles -> London - 0/153 booked.\n",
            "FL38: Miami -> Tokyo - 0/139 booked.\n",
            "FL39: Houston -> Tokyo - 0/76 booked.\n",
            "FL40: Miami -> Sydney - 0/160 booked.\n",
            "FL41: Chicago -> London - 0/159 booked.\n",
            "FL42: Houston -> Sydney - 0/56 booked.\n",
            "FL43: Miami -> Paris - 0/173 booked.\n",
            "FL44: Houston -> Paris - 0/162 booked.\n",
            "FL45: Miami -> Sydney - 0/170 booked.\n",
            "FL46: Los Angeles -> Sydney - 0/119 booked.\n",
            "FL47: Houston -> Paris - 0/172 booked.\n",
            "FL48: Los Angeles -> Tokyo - 0/149 booked.\n",
            "FL49: Los Angeles -> Dubai - 0/144 booked.\n",
            "FL50: Miami -> London - 0/169 booked.\n",
            "\n"
          ]
        }
      ]
    },
    {
      "cell_type": "markdown",
      "source": [
        "prompt 1: Adding a flight with zero available seats should not be allowed.\n"
      ],
      "metadata": {
        "id": "GbilDa9EA04e"
      }
    },
    {
      "cell_type": "code",
      "source": [
        "print(system.add_flight(\"FL51\", \"New York\", \"London\", datetime.now() + timedelta(days=1), 0))\n"
      ],
      "metadata": {
        "colab": {
          "base_uri": "https://localhost:8080/"
        },
        "id": "qxNYsw8NA6AV",
        "outputId": "1dcb51a2-5fab-4308-b1f1-32dc61263ae3"
      },
      "execution_count": 123,
      "outputs": [
        {
          "output_type": "stream",
          "name": "stdout",
          "text": [
            "Flight FL51 added successfully.\n"
          ]
        }
      ]
    },
    {
      "cell_type": "markdown",
      "source": [
        "prompt 2: A flight cannot be scheduled for a past date.\n"
      ],
      "metadata": {
        "id": "77tT08DUBCgR"
      }
    },
    {
      "cell_type": "code",
      "source": [
        "print(system.add_flight(\"FL52\", \"Los Angeles\", \"Paris\", datetime.now() - timedelta(days=1), 100))\n"
      ],
      "metadata": {
        "colab": {
          "base_uri": "https://localhost:8080/"
        },
        "id": "42mLPxd6BISo",
        "outputId": "ea633def-d77c-4cc3-aa67-8ced4cf856f9"
      },
      "execution_count": 124,
      "outputs": [
        {
          "output_type": "stream",
          "name": "stdout",
          "text": [
            "Flight FL52 added successfully.\n"
          ]
        }
      ]
    },
    {
      "cell_type": "markdown",
      "source": [
        "prompt 3: The system should prevent duplicate flight numbers."
      ],
      "metadata": {
        "id": "zDnBpQVSBNkI"
      }
    },
    {
      "cell_type": "code",
      "source": [
        "print(system.add_flight(\"FL1\", \"Chicago\", \"Tokyo\", datetime.now() + timedelta(days=2), 150))\n"
      ],
      "metadata": {
        "colab": {
          "base_uri": "https://localhost:8080/"
        },
        "id": "OwqifBQrBTeE",
        "outputId": "c1d391b3-3ce6-4ef4-c28d-8e7aca53358c"
      },
      "execution_count": 125,
      "outputs": [
        {
          "output_type": "stream",
          "name": "stdout",
          "text": [
            "Flight FL1 added successfully.\n"
          ]
        }
      ]
    },
    {
      "cell_type": "markdown",
      "source": [
        "prompt 4: A flight cannot have the same departure and arrival locations."
      ],
      "metadata": {
        "id": "7LSWdpPrBZvZ"
      }
    },
    {
      "cell_type": "code",
      "source": [
        "print(system.add_flight(\"FL53\", \"Houston\", \"Houston\", datetime.now() + timedelta(days=3), 120))\n"
      ],
      "metadata": {
        "colab": {
          "base_uri": "https://localhost:8080/"
        },
        "id": "iaFHvn2_BgYB",
        "outputId": "7b353bd8-73c1-4dbd-afd0-36a972a0862a"
      },
      "execution_count": 126,
      "outputs": [
        {
          "output_type": "stream",
          "name": "stdout",
          "text": [
            "Flight FL53 added successfully.\n"
          ]
        }
      ]
    },
    {
      "cell_type": "markdown",
      "source": [
        "prompt 5: The system should not allow booking a non-existent flight."
      ],
      "metadata": {
        "id": "WHIpYfADBkQ6"
      }
    },
    {
      "cell_type": "code",
      "source": [
        "print(system.book_flight(\"FL99\", \"Alice Smith\"))\n"
      ],
      "metadata": {
        "colab": {
          "base_uri": "https://localhost:8080/"
        },
        "id": "SrsfPw9KBvD9",
        "outputId": "4464e831-5cfe-4bb6-be32-333702426525"
      },
      "execution_count": 127,
      "outputs": [
        {
          "output_type": "stream",
          "name": "stdout",
          "text": [
            "Flight not found.\n"
          ]
        }
      ]
    },
    {
      "cell_type": "markdown",
      "source": [
        "prompt 6: The system should not allow overbooking beyond seat availability."
      ],
      "metadata": {
        "id": "--xC07HyB0ZG"
      }
    },
    {
      "cell_type": "code",
      "source": [
        "for _ in range(200):  # Attempting to overbook beyond available seats\n",
        "    print(system.book_flight(\"FL1\", f\"Passenger{_}\"))\n"
      ],
      "metadata": {
        "colab": {
          "base_uri": "https://localhost:8080/"
        },
        "id": "-u1VmWj8B6tS",
        "outputId": "8c4e7b86-084d-4baa-e390-a66df2bc41b6"
      },
      "execution_count": 128,
      "outputs": [
        {
          "output_type": "stream",
          "name": "stdout",
          "text": [
            "Booking confirmed for Passenger0 on flight FL1, Seat 2.\n",
            "Booking confirmed for Passenger1 on flight FL1, Seat 3.\n",
            "Booking confirmed for Passenger2 on flight FL1, Seat 4.\n",
            "Booking confirmed for Passenger3 on flight FL1, Seat 5.\n",
            "Booking confirmed for Passenger4 on flight FL1, Seat 6.\n",
            "Booking confirmed for Passenger5 on flight FL1, Seat 7.\n",
            "Booking confirmed for Passenger6 on flight FL1, Seat 8.\n",
            "Booking confirmed for Passenger7 on flight FL1, Seat 9.\n",
            "Booking confirmed for Passenger8 on flight FL1, Seat 10.\n",
            "Booking confirmed for Passenger9 on flight FL1, Seat 11.\n",
            "Booking confirmed for Passenger10 on flight FL1, Seat 12.\n",
            "Booking confirmed for Passenger11 on flight FL1, Seat 13.\n",
            "Booking confirmed for Passenger12 on flight FL1, Seat 14.\n",
            "Booking confirmed for Passenger13 on flight FL1, Seat 15.\n",
            "Booking confirmed for Passenger14 on flight FL1, Seat 16.\n",
            "Booking confirmed for Passenger15 on flight FL1, Seat 17.\n",
            "Booking confirmed for Passenger16 on flight FL1, Seat 18.\n",
            "Booking confirmed for Passenger17 on flight FL1, Seat 19.\n",
            "Booking confirmed for Passenger18 on flight FL1, Seat 20.\n",
            "Booking confirmed for Passenger19 on flight FL1, Seat 21.\n",
            "Booking confirmed for Passenger20 on flight FL1, Seat 22.\n",
            "Booking confirmed for Passenger21 on flight FL1, Seat 23.\n",
            "Booking confirmed for Passenger22 on flight FL1, Seat 24.\n",
            "Booking confirmed for Passenger23 on flight FL1, Seat 25.\n",
            "Booking confirmed for Passenger24 on flight FL1, Seat 26.\n",
            "Booking confirmed for Passenger25 on flight FL1, Seat 27.\n",
            "Booking confirmed for Passenger26 on flight FL1, Seat 28.\n",
            "Booking confirmed for Passenger27 on flight FL1, Seat 29.\n",
            "Booking confirmed for Passenger28 on flight FL1, Seat 30.\n",
            "Booking confirmed for Passenger29 on flight FL1, Seat 31.\n",
            "Booking confirmed for Passenger30 on flight FL1, Seat 32.\n",
            "Booking confirmed for Passenger31 on flight FL1, Seat 33.\n",
            "Booking confirmed for Passenger32 on flight FL1, Seat 34.\n",
            "Booking confirmed for Passenger33 on flight FL1, Seat 35.\n",
            "Booking confirmed for Passenger34 on flight FL1, Seat 36.\n",
            "Booking confirmed for Passenger35 on flight FL1, Seat 37.\n",
            "Booking confirmed for Passenger36 on flight FL1, Seat 38.\n",
            "Booking confirmed for Passenger37 on flight FL1, Seat 39.\n",
            "Booking confirmed for Passenger38 on flight FL1, Seat 40.\n",
            "Booking confirmed for Passenger39 on flight FL1, Seat 41.\n",
            "Booking confirmed for Passenger40 on flight FL1, Seat 42.\n",
            "Booking confirmed for Passenger41 on flight FL1, Seat 43.\n",
            "Booking confirmed for Passenger42 on flight FL1, Seat 44.\n",
            "Booking confirmed for Passenger43 on flight FL1, Seat 45.\n",
            "Booking confirmed for Passenger44 on flight FL1, Seat 46.\n",
            "Booking confirmed for Passenger45 on flight FL1, Seat 47.\n",
            "Booking confirmed for Passenger46 on flight FL1, Seat 48.\n",
            "Booking confirmed for Passenger47 on flight FL1, Seat 49.\n",
            "Booking confirmed for Passenger48 on flight FL1, Seat 50.\n",
            "Booking confirmed for Passenger49 on flight FL1, Seat 51.\n",
            "Booking confirmed for Passenger50 on flight FL1, Seat 52.\n",
            "Booking confirmed for Passenger51 on flight FL1, Seat 53.\n",
            "Booking confirmed for Passenger52 on flight FL1, Seat 54.\n",
            "Booking confirmed for Passenger53 on flight FL1, Seat 55.\n",
            "Booking confirmed for Passenger54 on flight FL1, Seat 56.\n",
            "Booking confirmed for Passenger55 on flight FL1, Seat 57.\n",
            "Booking confirmed for Passenger56 on flight FL1, Seat 58.\n",
            "Booking confirmed for Passenger57 on flight FL1, Seat 59.\n",
            "Booking confirmed for Passenger58 on flight FL1, Seat 60.\n",
            "Booking confirmed for Passenger59 on flight FL1, Seat 61.\n",
            "Booking confirmed for Passenger60 on flight FL1, Seat 62.\n",
            "Booking confirmed for Passenger61 on flight FL1, Seat 63.\n",
            "Booking confirmed for Passenger62 on flight FL1, Seat 64.\n",
            "Booking confirmed for Passenger63 on flight FL1, Seat 65.\n",
            "Booking confirmed for Passenger64 on flight FL1, Seat 66.\n",
            "Booking confirmed for Passenger65 on flight FL1, Seat 67.\n",
            "Booking confirmed for Passenger66 on flight FL1, Seat 68.\n",
            "Booking confirmed for Passenger67 on flight FL1, Seat 69.\n",
            "Booking confirmed for Passenger68 on flight FL1, Seat 70.\n",
            "Booking confirmed for Passenger69 on flight FL1, Seat 71.\n",
            "Booking confirmed for Passenger70 on flight FL1, Seat 72.\n",
            "Booking confirmed for Passenger71 on flight FL1, Seat 73.\n",
            "Booking confirmed for Passenger72 on flight FL1, Seat 74.\n",
            "Booking confirmed for Passenger73 on flight FL1, Seat 75.\n",
            "Booking confirmed for Passenger74 on flight FL1, Seat 76.\n",
            "Booking confirmed for Passenger75 on flight FL1, Seat 77.\n",
            "Booking confirmed for Passenger76 on flight FL1, Seat 78.\n",
            "Booking confirmed for Passenger77 on flight FL1, Seat 79.\n",
            "Booking confirmed for Passenger78 on flight FL1, Seat 80.\n",
            "Booking confirmed for Passenger79 on flight FL1, Seat 81.\n",
            "Booking confirmed for Passenger80 on flight FL1, Seat 82.\n",
            "Booking confirmed for Passenger81 on flight FL1, Seat 83.\n",
            "Booking confirmed for Passenger82 on flight FL1, Seat 84.\n",
            "Booking confirmed for Passenger83 on flight FL1, Seat 85.\n",
            "Booking confirmed for Passenger84 on flight FL1, Seat 86.\n",
            "Booking confirmed for Passenger85 on flight FL1, Seat 87.\n",
            "Booking confirmed for Passenger86 on flight FL1, Seat 88.\n",
            "Booking confirmed for Passenger87 on flight FL1, Seat 89.\n",
            "Booking confirmed for Passenger88 on flight FL1, Seat 90.\n",
            "Booking confirmed for Passenger89 on flight FL1, Seat 91.\n",
            "Booking confirmed for Passenger90 on flight FL1, Seat 92.\n",
            "Booking confirmed for Passenger91 on flight FL1, Seat 93.\n",
            "Booking confirmed for Passenger92 on flight FL1, Seat 94.\n",
            "Booking confirmed for Passenger93 on flight FL1, Seat 95.\n",
            "Booking confirmed for Passenger94 on flight FL1, Seat 96.\n",
            "Booking confirmed for Passenger95 on flight FL1, Seat 97.\n",
            "Booking confirmed for Passenger96 on flight FL1, Seat 98.\n",
            "Booking confirmed for Passenger97 on flight FL1, Seat 99.\n",
            "Booking confirmed for Passenger98 on flight FL1, Seat 100.\n",
            "Booking confirmed for Passenger99 on flight FL1, Seat 101.\n",
            "Booking confirmed for Passenger100 on flight FL1, Seat 102.\n",
            "Booking confirmed for Passenger101 on flight FL1, Seat 103.\n",
            "Booking confirmed for Passenger102 on flight FL1, Seat 104.\n",
            "Booking confirmed for Passenger103 on flight FL1, Seat 105.\n",
            "Booking confirmed for Passenger104 on flight FL1, Seat 106.\n",
            "Booking confirmed for Passenger105 on flight FL1, Seat 107.\n",
            "Booking confirmed for Passenger106 on flight FL1, Seat 108.\n",
            "Booking confirmed for Passenger107 on flight FL1, Seat 109.\n",
            "Booking confirmed for Passenger108 on flight FL1, Seat 110.\n",
            "Booking confirmed for Passenger109 on flight FL1, Seat 111.\n",
            "Booking confirmed for Passenger110 on flight FL1, Seat 112.\n",
            "Booking confirmed for Passenger111 on flight FL1, Seat 113.\n",
            "Booking confirmed for Passenger112 on flight FL1, Seat 114.\n",
            "Booking confirmed for Passenger113 on flight FL1, Seat 115.\n",
            "Booking confirmed for Passenger114 on flight FL1, Seat 116.\n",
            "Booking confirmed for Passenger115 on flight FL1, Seat 117.\n",
            "Booking confirmed for Passenger116 on flight FL1, Seat 118.\n",
            "Booking confirmed for Passenger117 on flight FL1, Seat 119.\n",
            "Booking confirmed for Passenger118 on flight FL1, Seat 120.\n",
            "Booking confirmed for Passenger119 on flight FL1, Seat 121.\n",
            "Booking confirmed for Passenger120 on flight FL1, Seat 122.\n",
            "Booking confirmed for Passenger121 on flight FL1, Seat 123.\n",
            "Booking confirmed for Passenger122 on flight FL1, Seat 124.\n",
            "Booking confirmed for Passenger123 on flight FL1, Seat 125.\n",
            "Booking confirmed for Passenger124 on flight FL1, Seat 126.\n",
            "Booking confirmed for Passenger125 on flight FL1, Seat 127.\n",
            "Booking confirmed for Passenger126 on flight FL1, Seat 128.\n",
            "Booking confirmed for Passenger127 on flight FL1, Seat 129.\n",
            "Booking confirmed for Passenger128 on flight FL1, Seat 130.\n",
            "Booking confirmed for Passenger129 on flight FL1, Seat 131.\n",
            "Booking confirmed for Passenger130 on flight FL1, Seat 132.\n",
            "Booking confirmed for Passenger131 on flight FL1, Seat 133.\n",
            "No available seats on this flight.\n",
            "No available seats on this flight.\n",
            "No available seats on this flight.\n",
            "No available seats on this flight.\n",
            "No available seats on this flight.\n",
            "No available seats on this flight.\n",
            "No available seats on this flight.\n",
            "No available seats on this flight.\n",
            "No available seats on this flight.\n",
            "No available seats on this flight.\n",
            "No available seats on this flight.\n",
            "No available seats on this flight.\n",
            "No available seats on this flight.\n",
            "No available seats on this flight.\n",
            "No available seats on this flight.\n",
            "No available seats on this flight.\n",
            "No available seats on this flight.\n",
            "No available seats on this flight.\n",
            "No available seats on this flight.\n",
            "No available seats on this flight.\n",
            "No available seats on this flight.\n",
            "No available seats on this flight.\n",
            "No available seats on this flight.\n",
            "No available seats on this flight.\n",
            "No available seats on this flight.\n",
            "No available seats on this flight.\n",
            "No available seats on this flight.\n",
            "No available seats on this flight.\n",
            "No available seats on this flight.\n",
            "No available seats on this flight.\n",
            "No available seats on this flight.\n",
            "No available seats on this flight.\n",
            "No available seats on this flight.\n",
            "No available seats on this flight.\n",
            "No available seats on this flight.\n",
            "No available seats on this flight.\n",
            "No available seats on this flight.\n",
            "No available seats on this flight.\n",
            "No available seats on this flight.\n",
            "No available seats on this flight.\n",
            "No available seats on this flight.\n",
            "No available seats on this flight.\n",
            "No available seats on this flight.\n",
            "No available seats on this flight.\n",
            "No available seats on this flight.\n",
            "No available seats on this flight.\n",
            "No available seats on this flight.\n",
            "No available seats on this flight.\n",
            "No available seats on this flight.\n",
            "No available seats on this flight.\n",
            "No available seats on this flight.\n",
            "No available seats on this flight.\n",
            "No available seats on this flight.\n",
            "No available seats on this flight.\n",
            "No available seats on this flight.\n",
            "No available seats on this flight.\n",
            "No available seats on this flight.\n",
            "No available seats on this flight.\n",
            "No available seats on this flight.\n",
            "No available seats on this flight.\n",
            "No available seats on this flight.\n",
            "No available seats on this flight.\n",
            "No available seats on this flight.\n",
            "No available seats on this flight.\n",
            "No available seats on this flight.\n",
            "No available seats on this flight.\n",
            "No available seats on this flight.\n",
            "No available seats on this flight.\n"
          ]
        }
      ]
    },
    {
      "cell_type": "markdown",
      "source": [
        "prompt 7: A passenger should not be allowed to book multiple seats on the same flight."
      ],
      "metadata": {
        "id": "wR0kaV8PCGW-"
      }
    },
    {
      "cell_type": "code",
      "source": [
        "print(system.book_flight(\"FL2\", \"Bob Johnson\"))\n",
        "print(system.book_flight(\"FL2\", \"Bob Johnson\"))\n"
      ],
      "metadata": {
        "colab": {
          "base_uri": "https://localhost:8080/"
        },
        "id": "tK3sZ-6OCLdl",
        "outputId": "6f31b65c-45cc-4429-94f9-7162b27c1532"
      },
      "execution_count": 129,
      "outputs": [
        {
          "output_type": "stream",
          "name": "stdout",
          "text": [
            "Booking confirmed for Bob Johnson on flight FL2, Seat 1.\n",
            "Booking confirmed for Bob Johnson on flight FL2, Seat 2.\n"
          ]
        }
      ]
    },
    {
      "cell_type": "markdown",
      "source": [
        "prompt 8: The system should handle empty names appropriately."
      ],
      "metadata": {
        "id": "zF0Lh1E0CPkz"
      }
    },
    {
      "cell_type": "code",
      "source": [
        "print(system.book_flight(\"FL3\", \"\"))\n"
      ],
      "metadata": {
        "colab": {
          "base_uri": "https://localhost:8080/"
        },
        "id": "iHbYZUENCV76",
        "outputId": "0bbcec1e-03e4-47eb-d3f4-a17a800a1027"
      },
      "execution_count": 130,
      "outputs": [
        {
          "output_type": "stream",
          "name": "stdout",
          "text": [
            "Booking confirmed for  on flight FL3, Seat 1.\n"
          ]
        }
      ]
    },
    {
      "cell_type": "markdown",
      "source": [
        "prompt 9: The system should not allow cancellation if the passenger has no booking."
      ],
      "metadata": {
        "id": "EvcZWseTCad5"
      }
    },
    {
      "cell_type": "code",
      "source": [
        "print(system.cancel_booking(\"FL4\", \"Charlie Brown\"))\n"
      ],
      "metadata": {
        "colab": {
          "base_uri": "https://localhost:8080/"
        },
        "id": "UmTEQ_o2CeFu",
        "outputId": "647c8a20-7898-40c2-9cb6-fa70fc69514c"
      },
      "execution_count": 131,
      "outputs": [
        {
          "output_type": "stream",
          "name": "stdout",
          "text": [
            "No booking found for this passenger.\n"
          ]
        }
      ]
    },
    {
      "cell_type": "markdown",
      "source": [
        "prompt 10: The system should handle attempts to cancel bookings on non-existent flights."
      ],
      "metadata": {
        "id": "931qCb-zCnDH"
      }
    },
    {
      "cell_type": "code",
      "source": [
        "print(system.cancel_booking(\"FL99\", \"David Miller\"))\n"
      ],
      "metadata": {
        "colab": {
          "base_uri": "https://localhost:8080/"
        },
        "id": "nD5lApjJCq8e",
        "outputId": "a17ee1e0-3a8f-4d1c-dd2b-56b31dcbd979"
      },
      "execution_count": 132,
      "outputs": [
        {
          "output_type": "stream",
          "name": "stdout",
          "text": [
            "Flight not found.\n"
          ]
        }
      ]
    },
    {
      "cell_type": "markdown",
      "source": [
        "prompt 11:  A booking should not be canceled once the flight has departed."
      ],
      "metadata": {
        "id": "f4zGyZqSCzAT"
      }
    },
    {
      "cell_type": "code",
      "source": [
        "past_flight = Flight(\"FL54\", \"Miami\", \"Dubai\", datetime.now() - timedelta(days=1), 100)\n",
        "system.flights.append(past_flight)\n",
        "print(system.cancel_booking(\"FL54\", \"Eve Adams\"))\n"
      ],
      "metadata": {
        "colab": {
          "base_uri": "https://localhost:8080/"
        },
        "id": "88wF8PuaC1M2",
        "outputId": "5186375e-8e53-442c-ee86-697c6aa3555b"
      },
      "execution_count": 133,
      "outputs": [
        {
          "output_type": "stream",
          "name": "stdout",
          "text": [
            "No booking found for this passenger.\n"
          ]
        }
      ]
    },
    {
      "cell_type": "markdown",
      "source": [
        "prompt 12:  The system should correctly handle cases where no flights are available for a given route."
      ],
      "metadata": {
        "id": "k7IjsEG8C4Wt"
      }
    },
    {
      "cell_type": "code",
      "source": [
        "print(system.find_flights(\"San Francisco\", \"Berlin\"))\n"
      ],
      "metadata": {
        "colab": {
          "base_uri": "https://localhost:8080/"
        },
        "id": "wogdfuO9C8Qq",
        "outputId": "1216c8ec-810c-4679-d6b4-160d3eea9ec0"
      },
      "execution_count": 134,
      "outputs": [
        {
          "output_type": "stream",
          "name": "stdout",
          "text": [
            "No flights available.\n"
          ]
        }
      ]
    },
    {
      "cell_type": "markdown",
      "source": [
        "prompt 13: The system should reject or handle empty search inputs properly."
      ],
      "metadata": {
        "id": "kq2TDTQ8C_P1"
      }
    },
    {
      "cell_type": "code",
      "source": [
        "print(system.find_flights(\"\", \"\"))\n"
      ],
      "metadata": {
        "colab": {
          "base_uri": "https://localhost:8080/"
        },
        "id": "FV5D0hTNDEkU",
        "outputId": "3a20b184-f2e6-463e-d7e5-4b49144da4f6"
      },
      "execution_count": 135,
      "outputs": [
        {
          "output_type": "stream",
          "name": "stdout",
          "text": [
            "No flights available.\n"
          ]
        }
      ]
    },
    {
      "cell_type": "markdown",
      "source": [
        "prompt 14: print(system.find_flights(\"\", \"\"))\n"
      ],
      "metadata": {
        "id": "z6Wer3N5DJfg"
      }
    },
    {
      "cell_type": "code",
      "source": [
        "for i in range(1000):\n",
        "    print(system.book_flight(\"FL5\", f\"Passenger{i}\"))\n"
      ],
      "metadata": {
        "colab": {
          "base_uri": "https://localhost:8080/"
        },
        "id": "sW5n7OdnDNhF",
        "outputId": "f42f6f77-ebd2-46df-99c3-716095353ba9"
      },
      "execution_count": 136,
      "outputs": [
        {
          "output_type": "stream",
          "name": "stdout",
          "text": [
            "Booking confirmed for Passenger0 on flight FL5, Seat 1.\n",
            "Booking confirmed for Passenger1 on flight FL5, Seat 2.\n",
            "Booking confirmed for Passenger2 on flight FL5, Seat 3.\n",
            "Booking confirmed for Passenger3 on flight FL5, Seat 4.\n",
            "Booking confirmed for Passenger4 on flight FL5, Seat 5.\n",
            "Booking confirmed for Passenger5 on flight FL5, Seat 6.\n",
            "Booking confirmed for Passenger6 on flight FL5, Seat 7.\n",
            "Booking confirmed for Passenger7 on flight FL5, Seat 8.\n",
            "Booking confirmed for Passenger8 on flight FL5, Seat 9.\n",
            "Booking confirmed for Passenger9 on flight FL5, Seat 10.\n",
            "Booking confirmed for Passenger10 on flight FL5, Seat 11.\n",
            "Booking confirmed for Passenger11 on flight FL5, Seat 12.\n",
            "Booking confirmed for Passenger12 on flight FL5, Seat 13.\n",
            "Booking confirmed for Passenger13 on flight FL5, Seat 14.\n",
            "Booking confirmed for Passenger14 on flight FL5, Seat 15.\n",
            "Booking confirmed for Passenger15 on flight FL5, Seat 16.\n",
            "Booking confirmed for Passenger16 on flight FL5, Seat 17.\n",
            "Booking confirmed for Passenger17 on flight FL5, Seat 18.\n",
            "Booking confirmed for Passenger18 on flight FL5, Seat 19.\n",
            "Booking confirmed for Passenger19 on flight FL5, Seat 20.\n",
            "Booking confirmed for Passenger20 on flight FL5, Seat 21.\n",
            "Booking confirmed for Passenger21 on flight FL5, Seat 22.\n",
            "Booking confirmed for Passenger22 on flight FL5, Seat 23.\n",
            "Booking confirmed for Passenger23 on flight FL5, Seat 24.\n",
            "Booking confirmed for Passenger24 on flight FL5, Seat 25.\n",
            "Booking confirmed for Passenger25 on flight FL5, Seat 26.\n",
            "Booking confirmed for Passenger26 on flight FL5, Seat 27.\n",
            "Booking confirmed for Passenger27 on flight FL5, Seat 28.\n",
            "Booking confirmed for Passenger28 on flight FL5, Seat 29.\n",
            "Booking confirmed for Passenger29 on flight FL5, Seat 30.\n",
            "Booking confirmed for Passenger30 on flight FL5, Seat 31.\n",
            "Booking confirmed for Passenger31 on flight FL5, Seat 32.\n",
            "Booking confirmed for Passenger32 on flight FL5, Seat 33.\n",
            "Booking confirmed for Passenger33 on flight FL5, Seat 34.\n",
            "Booking confirmed for Passenger34 on flight FL5, Seat 35.\n",
            "Booking confirmed for Passenger35 on flight FL5, Seat 36.\n",
            "Booking confirmed for Passenger36 on flight FL5, Seat 37.\n",
            "Booking confirmed for Passenger37 on flight FL5, Seat 38.\n",
            "Booking confirmed for Passenger38 on flight FL5, Seat 39.\n",
            "Booking confirmed for Passenger39 on flight FL5, Seat 40.\n",
            "Booking confirmed for Passenger40 on flight FL5, Seat 41.\n",
            "Booking confirmed for Passenger41 on flight FL5, Seat 42.\n",
            "Booking confirmed for Passenger42 on flight FL5, Seat 43.\n",
            "Booking confirmed for Passenger43 on flight FL5, Seat 44.\n",
            "Booking confirmed for Passenger44 on flight FL5, Seat 45.\n",
            "Booking confirmed for Passenger45 on flight FL5, Seat 46.\n",
            "Booking confirmed for Passenger46 on flight FL5, Seat 47.\n",
            "Booking confirmed for Passenger47 on flight FL5, Seat 48.\n",
            "Booking confirmed for Passenger48 on flight FL5, Seat 49.\n",
            "Booking confirmed for Passenger49 on flight FL5, Seat 50.\n",
            "Booking confirmed for Passenger50 on flight FL5, Seat 51.\n",
            "Booking confirmed for Passenger51 on flight FL5, Seat 52.\n",
            "Booking confirmed for Passenger52 on flight FL5, Seat 53.\n",
            "Booking confirmed for Passenger53 on flight FL5, Seat 54.\n",
            "Booking confirmed for Passenger54 on flight FL5, Seat 55.\n",
            "Booking confirmed for Passenger55 on flight FL5, Seat 56.\n",
            "Booking confirmed for Passenger56 on flight FL5, Seat 57.\n",
            "Booking confirmed for Passenger57 on flight FL5, Seat 58.\n",
            "Booking confirmed for Passenger58 on flight FL5, Seat 59.\n",
            "Booking confirmed for Passenger59 on flight FL5, Seat 60.\n",
            "Booking confirmed for Passenger60 on flight FL5, Seat 61.\n",
            "Booking confirmed for Passenger61 on flight FL5, Seat 62.\n",
            "Booking confirmed for Passenger62 on flight FL5, Seat 63.\n",
            "Booking confirmed for Passenger63 on flight FL5, Seat 64.\n",
            "Booking confirmed for Passenger64 on flight FL5, Seat 65.\n",
            "Booking confirmed for Passenger65 on flight FL5, Seat 66.\n",
            "Booking confirmed for Passenger66 on flight FL5, Seat 67.\n",
            "Booking confirmed for Passenger67 on flight FL5, Seat 68.\n",
            "Booking confirmed for Passenger68 on flight FL5, Seat 69.\n",
            "Booking confirmed for Passenger69 on flight FL5, Seat 70.\n",
            "Booking confirmed for Passenger70 on flight FL5, Seat 71.\n",
            "Booking confirmed for Passenger71 on flight FL5, Seat 72.\n",
            "Booking confirmed for Passenger72 on flight FL5, Seat 73.\n",
            "Booking confirmed for Passenger73 on flight FL5, Seat 74.\n",
            "Booking confirmed for Passenger74 on flight FL5, Seat 75.\n",
            "Booking confirmed for Passenger75 on flight FL5, Seat 76.\n",
            "Booking confirmed for Passenger76 on flight FL5, Seat 77.\n",
            "Booking confirmed for Passenger77 on flight FL5, Seat 78.\n",
            "Booking confirmed for Passenger78 on flight FL5, Seat 79.\n",
            "Booking confirmed for Passenger79 on flight FL5, Seat 80.\n",
            "Booking confirmed for Passenger80 on flight FL5, Seat 81.\n",
            "Booking confirmed for Passenger81 on flight FL5, Seat 82.\n",
            "Booking confirmed for Passenger82 on flight FL5, Seat 83.\n",
            "Booking confirmed for Passenger83 on flight FL5, Seat 84.\n",
            "Booking confirmed for Passenger84 on flight FL5, Seat 85.\n",
            "Booking confirmed for Passenger85 on flight FL5, Seat 86.\n",
            "Booking confirmed for Passenger86 on flight FL5, Seat 87.\n",
            "Booking confirmed for Passenger87 on flight FL5, Seat 88.\n",
            "Booking confirmed for Passenger88 on flight FL5, Seat 89.\n",
            "Booking confirmed for Passenger89 on flight FL5, Seat 90.\n",
            "Booking confirmed for Passenger90 on flight FL5, Seat 91.\n",
            "Booking confirmed for Passenger91 on flight FL5, Seat 92.\n",
            "Booking confirmed for Passenger92 on flight FL5, Seat 93.\n",
            "Booking confirmed for Passenger93 on flight FL5, Seat 94.\n",
            "Booking confirmed for Passenger94 on flight FL5, Seat 95.\n",
            "Booking confirmed for Passenger95 on flight FL5, Seat 96.\n",
            "Booking confirmed for Passenger96 on flight FL5, Seat 97.\n",
            "Booking confirmed for Passenger97 on flight FL5, Seat 98.\n",
            "Booking confirmed for Passenger98 on flight FL5, Seat 99.\n",
            "Booking confirmed for Passenger99 on flight FL5, Seat 100.\n",
            "Booking confirmed for Passenger100 on flight FL5, Seat 101.\n",
            "Booking confirmed for Passenger101 on flight FL5, Seat 102.\n",
            "Booking confirmed for Passenger102 on flight FL5, Seat 103.\n",
            "Booking confirmed for Passenger103 on flight FL5, Seat 104.\n",
            "Booking confirmed for Passenger104 on flight FL5, Seat 105.\n",
            "Booking confirmed for Passenger105 on flight FL5, Seat 106.\n",
            "Booking confirmed for Passenger106 on flight FL5, Seat 107.\n",
            "Booking confirmed for Passenger107 on flight FL5, Seat 108.\n",
            "Booking confirmed for Passenger108 on flight FL5, Seat 109.\n",
            "Booking confirmed for Passenger109 on flight FL5, Seat 110.\n",
            "Booking confirmed for Passenger110 on flight FL5, Seat 111.\n",
            "Booking confirmed for Passenger111 on flight FL5, Seat 112.\n",
            "Booking confirmed for Passenger112 on flight FL5, Seat 113.\n",
            "Booking confirmed for Passenger113 on flight FL5, Seat 114.\n",
            "Booking confirmed for Passenger114 on flight FL5, Seat 115.\n",
            "Booking confirmed for Passenger115 on flight FL5, Seat 116.\n",
            "Booking confirmed for Passenger116 on flight FL5, Seat 117.\n",
            "Booking confirmed for Passenger117 on flight FL5, Seat 118.\n",
            "Booking confirmed for Passenger118 on flight FL5, Seat 119.\n",
            "Booking confirmed for Passenger119 on flight FL5, Seat 120.\n",
            "Booking confirmed for Passenger120 on flight FL5, Seat 121.\n",
            "Booking confirmed for Passenger121 on flight FL5, Seat 122.\n",
            "Booking confirmed for Passenger122 on flight FL5, Seat 123.\n",
            "Booking confirmed for Passenger123 on flight FL5, Seat 124.\n",
            "Booking confirmed for Passenger124 on flight FL5, Seat 125.\n",
            "Booking confirmed for Passenger125 on flight FL5, Seat 126.\n",
            "Booking confirmed for Passenger126 on flight FL5, Seat 127.\n",
            "Booking confirmed for Passenger127 on flight FL5, Seat 128.\n",
            "Booking confirmed for Passenger128 on flight FL5, Seat 129.\n",
            "Booking confirmed for Passenger129 on flight FL5, Seat 130.\n",
            "Booking confirmed for Passenger130 on flight FL5, Seat 131.\n",
            "Booking confirmed for Passenger131 on flight FL5, Seat 132.\n",
            "Booking confirmed for Passenger132 on flight FL5, Seat 133.\n",
            "Booking confirmed for Passenger133 on flight FL5, Seat 134.\n",
            "Booking confirmed for Passenger134 on flight FL5, Seat 135.\n",
            "Booking confirmed for Passenger135 on flight FL5, Seat 136.\n",
            "Booking confirmed for Passenger136 on flight FL5, Seat 137.\n",
            "Booking confirmed for Passenger137 on flight FL5, Seat 138.\n",
            "Booking confirmed for Passenger138 on flight FL5, Seat 139.\n",
            "Booking confirmed for Passenger139 on flight FL5, Seat 140.\n",
            "Booking confirmed for Passenger140 on flight FL5, Seat 141.\n",
            "Booking confirmed for Passenger141 on flight FL5, Seat 142.\n",
            "Booking confirmed for Passenger142 on flight FL5, Seat 143.\n",
            "Booking confirmed for Passenger143 on flight FL5, Seat 144.\n",
            "Booking confirmed for Passenger144 on flight FL5, Seat 145.\n",
            "Booking confirmed for Passenger145 on flight FL5, Seat 146.\n",
            "Booking confirmed for Passenger146 on flight FL5, Seat 147.\n",
            "Booking confirmed for Passenger147 on flight FL5, Seat 148.\n",
            "Booking confirmed for Passenger148 on flight FL5, Seat 149.\n",
            "Booking confirmed for Passenger149 on flight FL5, Seat 150.\n",
            "Booking confirmed for Passenger150 on flight FL5, Seat 151.\n",
            "Booking confirmed for Passenger151 on flight FL5, Seat 152.\n",
            "Booking confirmed for Passenger152 on flight FL5, Seat 153.\n",
            "Booking confirmed for Passenger153 on flight FL5, Seat 154.\n",
            "Booking confirmed for Passenger154 on flight FL5, Seat 155.\n",
            "Booking confirmed for Passenger155 on flight FL5, Seat 156.\n",
            "Booking confirmed for Passenger156 on flight FL5, Seat 157.\n",
            "Booking confirmed for Passenger157 on flight FL5, Seat 158.\n",
            "Booking confirmed for Passenger158 on flight FL5, Seat 159.\n",
            "Booking confirmed for Passenger159 on flight FL5, Seat 160.\n",
            "Booking confirmed for Passenger160 on flight FL5, Seat 161.\n",
            "Booking confirmed for Passenger161 on flight FL5, Seat 162.\n",
            "Booking confirmed for Passenger162 on flight FL5, Seat 163.\n",
            "Booking confirmed for Passenger163 on flight FL5, Seat 164.\n",
            "Booking confirmed for Passenger164 on flight FL5, Seat 165.\n",
            "Booking confirmed for Passenger165 on flight FL5, Seat 166.\n",
            "Booking confirmed for Passenger166 on flight FL5, Seat 167.\n",
            "Booking confirmed for Passenger167 on flight FL5, Seat 168.\n",
            "Booking confirmed for Passenger168 on flight FL5, Seat 169.\n",
            "Booking confirmed for Passenger169 on flight FL5, Seat 170.\n",
            "No available seats on this flight.\n",
            "No available seats on this flight.\n",
            "No available seats on this flight.\n",
            "No available seats on this flight.\n",
            "No available seats on this flight.\n",
            "No available seats on this flight.\n",
            "No available seats on this flight.\n",
            "No available seats on this flight.\n",
            "No available seats on this flight.\n",
            "No available seats on this flight.\n",
            "No available seats on this flight.\n",
            "No available seats on this flight.\n",
            "No available seats on this flight.\n",
            "No available seats on this flight.\n",
            "No available seats on this flight.\n",
            "No available seats on this flight.\n",
            "No available seats on this flight.\n",
            "No available seats on this flight.\n",
            "No available seats on this flight.\n",
            "No available seats on this flight.\n",
            "No available seats on this flight.\n",
            "No available seats on this flight.\n",
            "No available seats on this flight.\n",
            "No available seats on this flight.\n",
            "No available seats on this flight.\n",
            "No available seats on this flight.\n",
            "No available seats on this flight.\n",
            "No available seats on this flight.\n",
            "No available seats on this flight.\n",
            "No available seats on this flight.\n",
            "No available seats on this flight.\n",
            "No available seats on this flight.\n",
            "No available seats on this flight.\n",
            "No available seats on this flight.\n",
            "No available seats on this flight.\n",
            "No available seats on this flight.\n",
            "No available seats on this flight.\n",
            "No available seats on this flight.\n",
            "No available seats on this flight.\n",
            "No available seats on this flight.\n",
            "No available seats on this flight.\n",
            "No available seats on this flight.\n",
            "No available seats on this flight.\n",
            "No available seats on this flight.\n",
            "No available seats on this flight.\n",
            "No available seats on this flight.\n",
            "No available seats on this flight.\n",
            "No available seats on this flight.\n",
            "No available seats on this flight.\n",
            "No available seats on this flight.\n",
            "No available seats on this flight.\n",
            "No available seats on this flight.\n",
            "No available seats on this flight.\n",
            "No available seats on this flight.\n",
            "No available seats on this flight.\n",
            "No available seats on this flight.\n",
            "No available seats on this flight.\n",
            "No available seats on this flight.\n",
            "No available seats on this flight.\n",
            "No available seats on this flight.\n",
            "No available seats on this flight.\n",
            "No available seats on this flight.\n",
            "No available seats on this flight.\n",
            "No available seats on this flight.\n",
            "No available seats on this flight.\n",
            "No available seats on this flight.\n",
            "No available seats on this flight.\n",
            "No available seats on this flight.\n",
            "No available seats on this flight.\n",
            "No available seats on this flight.\n",
            "No available seats on this flight.\n",
            "No available seats on this flight.\n",
            "No available seats on this flight.\n",
            "No available seats on this flight.\n",
            "No available seats on this flight.\n",
            "No available seats on this flight.\n",
            "No available seats on this flight.\n",
            "No available seats on this flight.\n",
            "No available seats on this flight.\n",
            "No available seats on this flight.\n",
            "No available seats on this flight.\n",
            "No available seats on this flight.\n",
            "No available seats on this flight.\n",
            "No available seats on this flight.\n",
            "No available seats on this flight.\n",
            "No available seats on this flight.\n",
            "No available seats on this flight.\n",
            "No available seats on this flight.\n",
            "No available seats on this flight.\n",
            "No available seats on this flight.\n",
            "No available seats on this flight.\n",
            "No available seats on this flight.\n",
            "No available seats on this flight.\n",
            "No available seats on this flight.\n",
            "No available seats on this flight.\n",
            "No available seats on this flight.\n",
            "No available seats on this flight.\n",
            "No available seats on this flight.\n",
            "No available seats on this flight.\n",
            "No available seats on this flight.\n",
            "No available seats on this flight.\n",
            "No available seats on this flight.\n",
            "No available seats on this flight.\n",
            "No available seats on this flight.\n",
            "No available seats on this flight.\n",
            "No available seats on this flight.\n",
            "No available seats on this flight.\n",
            "No available seats on this flight.\n",
            "No available seats on this flight.\n",
            "No available seats on this flight.\n",
            "No available seats on this flight.\n",
            "No available seats on this flight.\n",
            "No available seats on this flight.\n",
            "No available seats on this flight.\n",
            "No available seats on this flight.\n",
            "No available seats on this flight.\n",
            "No available seats on this flight.\n",
            "No available seats on this flight.\n",
            "No available seats on this flight.\n",
            "No available seats on this flight.\n",
            "No available seats on this flight.\n",
            "No available seats on this flight.\n",
            "No available seats on this flight.\n",
            "No available seats on this flight.\n",
            "No available seats on this flight.\n",
            "No available seats on this flight.\n",
            "No available seats on this flight.\n",
            "No available seats on this flight.\n",
            "No available seats on this flight.\n",
            "No available seats on this flight.\n",
            "No available seats on this flight.\n",
            "No available seats on this flight.\n",
            "No available seats on this flight.\n",
            "No available seats on this flight.\n",
            "No available seats on this flight.\n",
            "No available seats on this flight.\n",
            "No available seats on this flight.\n",
            "No available seats on this flight.\n",
            "No available seats on this flight.\n",
            "No available seats on this flight.\n",
            "No available seats on this flight.\n",
            "No available seats on this flight.\n",
            "No available seats on this flight.\n",
            "No available seats on this flight.\n",
            "No available seats on this flight.\n",
            "No available seats on this flight.\n",
            "No available seats on this flight.\n",
            "No available seats on this flight.\n",
            "No available seats on this flight.\n",
            "No available seats on this flight.\n",
            "No available seats on this flight.\n",
            "No available seats on this flight.\n",
            "No available seats on this flight.\n",
            "No available seats on this flight.\n",
            "No available seats on this flight.\n",
            "No available seats on this flight.\n",
            "No available seats on this flight.\n",
            "No available seats on this flight.\n",
            "No available seats on this flight.\n",
            "No available seats on this flight.\n",
            "No available seats on this flight.\n",
            "No available seats on this flight.\n",
            "No available seats on this flight.\n",
            "No available seats on this flight.\n",
            "No available seats on this flight.\n",
            "No available seats on this flight.\n",
            "No available seats on this flight.\n",
            "No available seats on this flight.\n",
            "No available seats on this flight.\n",
            "No available seats on this flight.\n",
            "No available seats on this flight.\n",
            "No available seats on this flight.\n",
            "No available seats on this flight.\n",
            "No available seats on this flight.\n",
            "No available seats on this flight.\n",
            "No available seats on this flight.\n",
            "No available seats on this flight.\n",
            "No available seats on this flight.\n",
            "No available seats on this flight.\n",
            "No available seats on this flight.\n",
            "No available seats on this flight.\n",
            "No available seats on this flight.\n",
            "No available seats on this flight.\n",
            "No available seats on this flight.\n",
            "No available seats on this flight.\n",
            "No available seats on this flight.\n",
            "No available seats on this flight.\n",
            "No available seats on this flight.\n",
            "No available seats on this flight.\n",
            "No available seats on this flight.\n",
            "No available seats on this flight.\n",
            "No available seats on this flight.\n",
            "No available seats on this flight.\n",
            "No available seats on this flight.\n",
            "No available seats on this flight.\n",
            "No available seats on this flight.\n",
            "No available seats on this flight.\n",
            "No available seats on this flight.\n",
            "No available seats on this flight.\n",
            "No available seats on this flight.\n",
            "No available seats on this flight.\n",
            "No available seats on this flight.\n",
            "No available seats on this flight.\n",
            "No available seats on this flight.\n",
            "No available seats on this flight.\n",
            "No available seats on this flight.\n",
            "No available seats on this flight.\n",
            "No available seats on this flight.\n",
            "No available seats on this flight.\n",
            "No available seats on this flight.\n",
            "No available seats on this flight.\n",
            "No available seats on this flight.\n",
            "No available seats on this flight.\n",
            "No available seats on this flight.\n",
            "No available seats on this flight.\n",
            "No available seats on this flight.\n",
            "No available seats on this flight.\n",
            "No available seats on this flight.\n",
            "No available seats on this flight.\n",
            "No available seats on this flight.\n",
            "No available seats on this flight.\n",
            "No available seats on this flight.\n",
            "No available seats on this flight.\n",
            "No available seats on this flight.\n",
            "No available seats on this flight.\n",
            "No available seats on this flight.\n",
            "No available seats on this flight.\n",
            "No available seats on this flight.\n",
            "No available seats on this flight.\n",
            "No available seats on this flight.\n",
            "No available seats on this flight.\n",
            "No available seats on this flight.\n",
            "No available seats on this flight.\n",
            "No available seats on this flight.\n",
            "No available seats on this flight.\n",
            "No available seats on this flight.\n",
            "No available seats on this flight.\n",
            "No available seats on this flight.\n",
            "No available seats on this flight.\n",
            "No available seats on this flight.\n",
            "No available seats on this flight.\n",
            "No available seats on this flight.\n",
            "No available seats on this flight.\n",
            "No available seats on this flight.\n",
            "No available seats on this flight.\n",
            "No available seats on this flight.\n",
            "No available seats on this flight.\n",
            "No available seats on this flight.\n",
            "No available seats on this flight.\n",
            "No available seats on this flight.\n",
            "No available seats on this flight.\n",
            "No available seats on this flight.\n",
            "No available seats on this flight.\n",
            "No available seats on this flight.\n",
            "No available seats on this flight.\n",
            "No available seats on this flight.\n",
            "No available seats on this flight.\n",
            "No available seats on this flight.\n",
            "No available seats on this flight.\n",
            "No available seats on this flight.\n",
            "No available seats on this flight.\n",
            "No available seats on this flight.\n",
            "No available seats on this flight.\n",
            "No available seats on this flight.\n",
            "No available seats on this flight.\n",
            "No available seats on this flight.\n",
            "No available seats on this flight.\n",
            "No available seats on this flight.\n",
            "No available seats on this flight.\n",
            "No available seats on this flight.\n",
            "No available seats on this flight.\n",
            "No available seats on this flight.\n",
            "No available seats on this flight.\n",
            "No available seats on this flight.\n",
            "No available seats on this flight.\n",
            "No available seats on this flight.\n",
            "No available seats on this flight.\n",
            "No available seats on this flight.\n",
            "No available seats on this flight.\n",
            "No available seats on this flight.\n",
            "No available seats on this flight.\n",
            "No available seats on this flight.\n",
            "No available seats on this flight.\n",
            "No available seats on this flight.\n",
            "No available seats on this flight.\n",
            "No available seats on this flight.\n",
            "No available seats on this flight.\n",
            "No available seats on this flight.\n",
            "No available seats on this flight.\n",
            "No available seats on this flight.\n",
            "No available seats on this flight.\n",
            "No available seats on this flight.\n",
            "No available seats on this flight.\n",
            "No available seats on this flight.\n",
            "No available seats on this flight.\n",
            "No available seats on this flight.\n",
            "No available seats on this flight.\n",
            "No available seats on this flight.\n",
            "No available seats on this flight.\n",
            "No available seats on this flight.\n",
            "No available seats on this flight.\n",
            "No available seats on this flight.\n",
            "No available seats on this flight.\n",
            "No available seats on this flight.\n",
            "No available seats on this flight.\n",
            "No available seats on this flight.\n",
            "No available seats on this flight.\n",
            "No available seats on this flight.\n",
            "No available seats on this flight.\n",
            "No available seats on this flight.\n",
            "No available seats on this flight.\n",
            "No available seats on this flight.\n",
            "No available seats on this flight.\n",
            "No available seats on this flight.\n",
            "No available seats on this flight.\n",
            "No available seats on this flight.\n",
            "No available seats on this flight.\n",
            "No available seats on this flight.\n",
            "No available seats on this flight.\n",
            "No available seats on this flight.\n",
            "No available seats on this flight.\n",
            "No available seats on this flight.\n",
            "No available seats on this flight.\n",
            "No available seats on this flight.\n",
            "No available seats on this flight.\n",
            "No available seats on this flight.\n",
            "No available seats on this flight.\n",
            "No available seats on this flight.\n",
            "No available seats on this flight.\n",
            "No available seats on this flight.\n",
            "No available seats on this flight.\n",
            "No available seats on this flight.\n",
            "No available seats on this flight.\n",
            "No available seats on this flight.\n",
            "No available seats on this flight.\n",
            "No available seats on this flight.\n",
            "No available seats on this flight.\n",
            "No available seats on this flight.\n",
            "No available seats on this flight.\n",
            "No available seats on this flight.\n",
            "No available seats on this flight.\n",
            "No available seats on this flight.\n",
            "No available seats on this flight.\n",
            "No available seats on this flight.\n",
            "No available seats on this flight.\n",
            "No available seats on this flight.\n",
            "No available seats on this flight.\n",
            "No available seats on this flight.\n",
            "No available seats on this flight.\n",
            "No available seats on this flight.\n",
            "No available seats on this flight.\n",
            "No available seats on this flight.\n",
            "No available seats on this flight.\n",
            "No available seats on this flight.\n",
            "No available seats on this flight.\n",
            "No available seats on this flight.\n",
            "No available seats on this flight.\n",
            "No available seats on this flight.\n",
            "No available seats on this flight.\n",
            "No available seats on this flight.\n",
            "No available seats on this flight.\n",
            "No available seats on this flight.\n",
            "No available seats on this flight.\n",
            "No available seats on this flight.\n",
            "No available seats on this flight.\n",
            "No available seats on this flight.\n",
            "No available seats on this flight.\n",
            "No available seats on this flight.\n",
            "No available seats on this flight.\n",
            "No available seats on this flight.\n",
            "No available seats on this flight.\n",
            "No available seats on this flight.\n",
            "No available seats on this flight.\n",
            "No available seats on this flight.\n",
            "No available seats on this flight.\n",
            "No available seats on this flight.\n",
            "No available seats on this flight.\n",
            "No available seats on this flight.\n",
            "No available seats on this flight.\n",
            "No available seats on this flight.\n",
            "No available seats on this flight.\n",
            "No available seats on this flight.\n",
            "No available seats on this flight.\n",
            "No available seats on this flight.\n",
            "No available seats on this flight.\n",
            "No available seats on this flight.\n",
            "No available seats on this flight.\n",
            "No available seats on this flight.\n",
            "No available seats on this flight.\n",
            "No available seats on this flight.\n",
            "No available seats on this flight.\n",
            "No available seats on this flight.\n",
            "No available seats on this flight.\n",
            "No available seats on this flight.\n",
            "No available seats on this flight.\n",
            "No available seats on this flight.\n",
            "No available seats on this flight.\n",
            "No available seats on this flight.\n",
            "No available seats on this flight.\n",
            "No available seats on this flight.\n",
            "No available seats on this flight.\n",
            "No available seats on this flight.\n",
            "No available seats on this flight.\n",
            "No available seats on this flight.\n",
            "No available seats on this flight.\n",
            "No available seats on this flight.\n",
            "No available seats on this flight.\n",
            "No available seats on this flight.\n",
            "No available seats on this flight.\n",
            "No available seats on this flight.\n",
            "No available seats on this flight.\n",
            "No available seats on this flight.\n",
            "No available seats on this flight.\n",
            "No available seats on this flight.\n",
            "No available seats on this flight.\n",
            "No available seats on this flight.\n",
            "No available seats on this flight.\n",
            "No available seats on this flight.\n",
            "No available seats on this flight.\n",
            "No available seats on this flight.\n",
            "No available seats on this flight.\n",
            "No available seats on this flight.\n",
            "No available seats on this flight.\n",
            "No available seats on this flight.\n",
            "No available seats on this flight.\n",
            "No available seats on this flight.\n",
            "No available seats on this flight.\n",
            "No available seats on this flight.\n",
            "No available seats on this flight.\n",
            "No available seats on this flight.\n",
            "No available seats on this flight.\n",
            "No available seats on this flight.\n",
            "No available seats on this flight.\n",
            "No available seats on this flight.\n",
            "No available seats on this flight.\n",
            "No available seats on this flight.\n",
            "No available seats on this flight.\n",
            "No available seats on this flight.\n",
            "No available seats on this flight.\n",
            "No available seats on this flight.\n",
            "No available seats on this flight.\n",
            "No available seats on this flight.\n",
            "No available seats on this flight.\n",
            "No available seats on this flight.\n",
            "No available seats on this flight.\n",
            "No available seats on this flight.\n",
            "No available seats on this flight.\n",
            "No available seats on this flight.\n",
            "No available seats on this flight.\n",
            "No available seats on this flight.\n",
            "No available seats on this flight.\n",
            "No available seats on this flight.\n",
            "No available seats on this flight.\n",
            "No available seats on this flight.\n",
            "No available seats on this flight.\n",
            "No available seats on this flight.\n",
            "No available seats on this flight.\n",
            "No available seats on this flight.\n",
            "No available seats on this flight.\n",
            "No available seats on this flight.\n",
            "No available seats on this flight.\n",
            "No available seats on this flight.\n",
            "No available seats on this flight.\n",
            "No available seats on this flight.\n",
            "No available seats on this flight.\n",
            "No available seats on this flight.\n",
            "No available seats on this flight.\n",
            "No available seats on this flight.\n",
            "No available seats on this flight.\n",
            "No available seats on this flight.\n",
            "No available seats on this flight.\n",
            "No available seats on this flight.\n",
            "No available seats on this flight.\n",
            "No available seats on this flight.\n",
            "No available seats on this flight.\n",
            "No available seats on this flight.\n",
            "No available seats on this flight.\n",
            "No available seats on this flight.\n",
            "No available seats on this flight.\n",
            "No available seats on this flight.\n",
            "No available seats on this flight.\n",
            "No available seats on this flight.\n",
            "No available seats on this flight.\n",
            "No available seats on this flight.\n",
            "No available seats on this flight.\n",
            "No available seats on this flight.\n",
            "No available seats on this flight.\n",
            "No available seats on this flight.\n",
            "No available seats on this flight.\n",
            "No available seats on this flight.\n",
            "No available seats on this flight.\n",
            "No available seats on this flight.\n",
            "No available seats on this flight.\n",
            "No available seats on this flight.\n",
            "No available seats on this flight.\n",
            "No available seats on this flight.\n",
            "No available seats on this flight.\n",
            "No available seats on this flight.\n",
            "No available seats on this flight.\n",
            "No available seats on this flight.\n",
            "No available seats on this flight.\n",
            "No available seats on this flight.\n",
            "No available seats on this flight.\n",
            "No available seats on this flight.\n",
            "No available seats on this flight.\n",
            "No available seats on this flight.\n",
            "No available seats on this flight.\n",
            "No available seats on this flight.\n",
            "No available seats on this flight.\n",
            "No available seats on this flight.\n",
            "No available seats on this flight.\n",
            "No available seats on this flight.\n",
            "No available seats on this flight.\n",
            "No available seats on this flight.\n",
            "No available seats on this flight.\n",
            "No available seats on this flight.\n",
            "No available seats on this flight.\n",
            "No available seats on this flight.\n",
            "No available seats on this flight.\n",
            "No available seats on this flight.\n",
            "No available seats on this flight.\n",
            "No available seats on this flight.\n",
            "No available seats on this flight.\n",
            "No available seats on this flight.\n",
            "No available seats on this flight.\n",
            "No available seats on this flight.\n",
            "No available seats on this flight.\n",
            "No available seats on this flight.\n",
            "No available seats on this flight.\n",
            "No available seats on this flight.\n",
            "No available seats on this flight.\n",
            "No available seats on this flight.\n",
            "No available seats on this flight.\n",
            "No available seats on this flight.\n",
            "No available seats on this flight.\n",
            "No available seats on this flight.\n",
            "No available seats on this flight.\n",
            "No available seats on this flight.\n",
            "No available seats on this flight.\n",
            "No available seats on this flight.\n",
            "No available seats on this flight.\n",
            "No available seats on this flight.\n",
            "No available seats on this flight.\n",
            "No available seats on this flight.\n",
            "No available seats on this flight.\n",
            "No available seats on this flight.\n",
            "No available seats on this flight.\n",
            "No available seats on this flight.\n",
            "No available seats on this flight.\n",
            "No available seats on this flight.\n",
            "No available seats on this flight.\n",
            "No available seats on this flight.\n",
            "No available seats on this flight.\n",
            "No available seats on this flight.\n",
            "No available seats on this flight.\n",
            "No available seats on this flight.\n",
            "No available seats on this flight.\n",
            "No available seats on this flight.\n",
            "No available seats on this flight.\n",
            "No available seats on this flight.\n",
            "No available seats on this flight.\n",
            "No available seats on this flight.\n",
            "No available seats on this flight.\n",
            "No available seats on this flight.\n",
            "No available seats on this flight.\n",
            "No available seats on this flight.\n",
            "No available seats on this flight.\n",
            "No available seats on this flight.\n",
            "No available seats on this flight.\n",
            "No available seats on this flight.\n",
            "No available seats on this flight.\n",
            "No available seats on this flight.\n",
            "No available seats on this flight.\n",
            "No available seats on this flight.\n",
            "No available seats on this flight.\n",
            "No available seats on this flight.\n",
            "No available seats on this flight.\n",
            "No available seats on this flight.\n",
            "No available seats on this flight.\n",
            "No available seats on this flight.\n",
            "No available seats on this flight.\n",
            "No available seats on this flight.\n",
            "No available seats on this flight.\n",
            "No available seats on this flight.\n",
            "No available seats on this flight.\n",
            "No available seats on this flight.\n",
            "No available seats on this flight.\n",
            "No available seats on this flight.\n",
            "No available seats on this flight.\n",
            "No available seats on this flight.\n",
            "No available seats on this flight.\n",
            "No available seats on this flight.\n",
            "No available seats on this flight.\n",
            "No available seats on this flight.\n",
            "No available seats on this flight.\n",
            "No available seats on this flight.\n",
            "No available seats on this flight.\n",
            "No available seats on this flight.\n",
            "No available seats on this flight.\n",
            "No available seats on this flight.\n",
            "No available seats on this flight.\n",
            "No available seats on this flight.\n",
            "No available seats on this flight.\n",
            "No available seats on this flight.\n",
            "No available seats on this flight.\n",
            "No available seats on this flight.\n",
            "No available seats on this flight.\n",
            "No available seats on this flight.\n",
            "No available seats on this flight.\n",
            "No available seats on this flight.\n",
            "No available seats on this flight.\n",
            "No available seats on this flight.\n",
            "No available seats on this flight.\n",
            "No available seats on this flight.\n",
            "No available seats on this flight.\n",
            "No available seats on this flight.\n",
            "No available seats on this flight.\n",
            "No available seats on this flight.\n",
            "No available seats on this flight.\n",
            "No available seats on this flight.\n",
            "No available seats on this flight.\n",
            "No available seats on this flight.\n",
            "No available seats on this flight.\n",
            "No available seats on this flight.\n",
            "No available seats on this flight.\n",
            "No available seats on this flight.\n",
            "No available seats on this flight.\n",
            "No available seats on this flight.\n",
            "No available seats on this flight.\n",
            "No available seats on this flight.\n",
            "No available seats on this flight.\n",
            "No available seats on this flight.\n",
            "No available seats on this flight.\n",
            "No available seats on this flight.\n",
            "No available seats on this flight.\n",
            "No available seats on this flight.\n",
            "No available seats on this flight.\n",
            "No available seats on this flight.\n",
            "No available seats on this flight.\n",
            "No available seats on this flight.\n",
            "No available seats on this flight.\n",
            "No available seats on this flight.\n",
            "No available seats on this flight.\n",
            "No available seats on this flight.\n",
            "No available seats on this flight.\n",
            "No available seats on this flight.\n",
            "No available seats on this flight.\n",
            "No available seats on this flight.\n",
            "No available seats on this flight.\n",
            "No available seats on this flight.\n",
            "No available seats on this flight.\n",
            "No available seats on this flight.\n",
            "No available seats on this flight.\n",
            "No available seats on this flight.\n",
            "No available seats on this flight.\n",
            "No available seats on this flight.\n",
            "No available seats on this flight.\n",
            "No available seats on this flight.\n",
            "No available seats on this flight.\n",
            "No available seats on this flight.\n",
            "No available seats on this flight.\n",
            "No available seats on this flight.\n",
            "No available seats on this flight.\n",
            "No available seats on this flight.\n",
            "No available seats on this flight.\n",
            "No available seats on this flight.\n",
            "No available seats on this flight.\n",
            "No available seats on this flight.\n",
            "No available seats on this flight.\n",
            "No available seats on this flight.\n",
            "No available seats on this flight.\n",
            "No available seats on this flight.\n",
            "No available seats on this flight.\n",
            "No available seats on this flight.\n",
            "No available seats on this flight.\n",
            "No available seats on this flight.\n",
            "No available seats on this flight.\n",
            "No available seats on this flight.\n",
            "No available seats on this flight.\n",
            "No available seats on this flight.\n",
            "No available seats on this flight.\n",
            "No available seats on this flight.\n",
            "No available seats on this flight.\n",
            "No available seats on this flight.\n",
            "No available seats on this flight.\n",
            "No available seats on this flight.\n",
            "No available seats on this flight.\n",
            "No available seats on this flight.\n",
            "No available seats on this flight.\n",
            "No available seats on this flight.\n",
            "No available seats on this flight.\n",
            "No available seats on this flight.\n",
            "No available seats on this flight.\n",
            "No available seats on this flight.\n",
            "No available seats on this flight.\n",
            "No available seats on this flight.\n",
            "No available seats on this flight.\n",
            "No available seats on this flight.\n",
            "No available seats on this flight.\n",
            "No available seats on this flight.\n",
            "No available seats on this flight.\n",
            "No available seats on this flight.\n",
            "No available seats on this flight.\n",
            "No available seats on this flight.\n",
            "No available seats on this flight.\n",
            "No available seats on this flight.\n",
            "No available seats on this flight.\n",
            "No available seats on this flight.\n",
            "No available seats on this flight.\n",
            "No available seats on this flight.\n",
            "No available seats on this flight.\n",
            "No available seats on this flight.\n",
            "No available seats on this flight.\n",
            "No available seats on this flight.\n",
            "No available seats on this flight.\n",
            "No available seats on this flight.\n",
            "No available seats on this flight.\n",
            "No available seats on this flight.\n",
            "No available seats on this flight.\n",
            "No available seats on this flight.\n",
            "No available seats on this flight.\n",
            "No available seats on this flight.\n",
            "No available seats on this flight.\n",
            "No available seats on this flight.\n",
            "No available seats on this flight.\n",
            "No available seats on this flight.\n",
            "No available seats on this flight.\n",
            "No available seats on this flight.\n",
            "No available seats on this flight.\n",
            "No available seats on this flight.\n",
            "No available seats on this flight.\n",
            "No available seats on this flight.\n",
            "No available seats on this flight.\n",
            "No available seats on this flight.\n",
            "No available seats on this flight.\n",
            "No available seats on this flight.\n",
            "No available seats on this flight.\n",
            "No available seats on this flight.\n",
            "No available seats on this flight.\n",
            "No available seats on this flight.\n",
            "No available seats on this flight.\n",
            "No available seats on this flight.\n",
            "No available seats on this flight.\n",
            "No available seats on this flight.\n",
            "No available seats on this flight.\n",
            "No available seats on this flight.\n",
            "No available seats on this flight.\n",
            "No available seats on this flight.\n",
            "No available seats on this flight.\n",
            "No available seats on this flight.\n",
            "No available seats on this flight.\n",
            "No available seats on this flight.\n",
            "No available seats on this flight.\n",
            "No available seats on this flight.\n",
            "No available seats on this flight.\n",
            "No available seats on this flight.\n",
            "No available seats on this flight.\n",
            "No available seats on this flight.\n",
            "No available seats on this flight.\n",
            "No available seats on this flight.\n",
            "No available seats on this flight.\n",
            "No available seats on this flight.\n",
            "No available seats on this flight.\n",
            "No available seats on this flight.\n",
            "No available seats on this flight.\n",
            "No available seats on this flight.\n",
            "No available seats on this flight.\n",
            "No available seats on this flight.\n",
            "No available seats on this flight.\n",
            "No available seats on this flight.\n",
            "No available seats on this flight.\n",
            "No available seats on this flight.\n",
            "No available seats on this flight.\n",
            "No available seats on this flight.\n",
            "No available seats on this flight.\n",
            "No available seats on this flight.\n",
            "No available seats on this flight.\n",
            "No available seats on this flight.\n",
            "No available seats on this flight.\n",
            "No available seats on this flight.\n",
            "No available seats on this flight.\n",
            "No available seats on this flight.\n",
            "No available seats on this flight.\n",
            "No available seats on this flight.\n",
            "No available seats on this flight.\n",
            "No available seats on this flight.\n",
            "No available seats on this flight.\n",
            "No available seats on this flight.\n",
            "No available seats on this flight.\n",
            "No available seats on this flight.\n",
            "No available seats on this flight.\n",
            "No available seats on this flight.\n",
            "No available seats on this flight.\n",
            "No available seats on this flight.\n",
            "No available seats on this flight.\n",
            "No available seats on this flight.\n",
            "No available seats on this flight.\n",
            "No available seats on this flight.\n",
            "No available seats on this flight.\n",
            "No available seats on this flight.\n",
            "No available seats on this flight.\n",
            "No available seats on this flight.\n",
            "No available seats on this flight.\n",
            "No available seats on this flight.\n",
            "No available seats on this flight.\n",
            "No available seats on this flight.\n",
            "No available seats on this flight.\n",
            "No available seats on this flight.\n",
            "No available seats on this flight.\n",
            "No available seats on this flight.\n",
            "No available seats on this flight.\n",
            "No available seats on this flight.\n",
            "No available seats on this flight.\n",
            "No available seats on this flight.\n",
            "No available seats on this flight.\n",
            "No available seats on this flight.\n",
            "No available seats on this flight.\n",
            "No available seats on this flight.\n",
            "No available seats on this flight.\n",
            "No available seats on this flight.\n",
            "No available seats on this flight.\n",
            "No available seats on this flight.\n",
            "No available seats on this flight.\n",
            "No available seats on this flight.\n",
            "No available seats on this flight.\n",
            "No available seats on this flight.\n",
            "No available seats on this flight.\n",
            "No available seats on this flight.\n",
            "No available seats on this flight.\n",
            "No available seats on this flight.\n"
          ]
        }
      ]
    },
    {
      "cell_type": "markdown",
      "source": [
        "prompt 15: The system should correctly generate reports when no flights exist."
      ],
      "metadata": {
        "id": "mhOvW0omDSXc"
      }
    },
    {
      "cell_type": "code",
      "source": [
        "empty_system = FlightBookingSystem()\n",
        "print(empty_system.generate_report())\n"
      ],
      "metadata": {
        "colab": {
          "base_uri": "https://localhost:8080/"
        },
        "id": "NfH5vKLaDVXB",
        "outputId": "0075778a-6fef-4070-cada-6a679eb54a9f"
      },
      "execution_count": 137,
      "outputs": [
        {
          "output_type": "stream",
          "name": "stdout",
          "text": [
            "\n",
            "Flight Performance Report:\n",
            "\n"
          ]
        }
      ]
    },
    {
      "cell_type": "markdown",
      "source": [
        "#Mandatory Question\n",
        "\n",
        "Provide your thoughts on the assignment. What did you find challenging, and what aspects did you enjoy? Your opinion on the provided time to complete the assignment. Share any suggestions for improvement. Your feedback will be valuable for enhancing the learning experience."
      ],
      "metadata": {
        "id": "m9inygFqYvSm"
      }
    },
    {
      "cell_type": "markdown",
      "source": [
        "Although the assignment was mostly doable, I found the fifth question to be a little challenging. The first row of the file needed some troubleshooting because it was initially being read as data rather than being identified as the header. The assignment was given enough time, so I was able to finish it without a rush.\n"
      ],
      "metadata": {
        "id": "wGSf8zKOYzCW"
      }
    }
  ],
  "metadata": {
    "colab": {
      "provenance": []
    },
    "kernelspec": {
      "display_name": "Python 3 (ipykernel)",
      "language": "python",
      "name": "python3"
    },
    "language_info": {
      "codemirror_mode": {
        "name": "ipython",
        "version": 3
      },
      "file_extension": ".py",
      "mimetype": "text/x-python",
      "name": "python",
      "nbconvert_exporter": "python",
      "pygments_lexer": "ipython3",
      "version": "3.9.12"
    }
  },
  "nbformat": 4,
  "nbformat_minor": 0
}